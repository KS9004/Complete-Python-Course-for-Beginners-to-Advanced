{
 "cells": [
  {
   "cell_type": "markdown",
   "id": "7b47e362-ec34-4fc5-9f84-915a34c6ddaa",
   "metadata": {},
   "source": [
    "# Python Syntax"
   ]
  },
  {
   "cell_type": "code",
   "execution_count": 1,
   "id": "c1b4173d-2450-4277-8ef9-b5e8067d54fe",
   "metadata": {},
   "outputs": [
    {
     "name": "stdout",
     "output_type": "stream",
     "text": [
      "hello world\n"
     ]
    }
   ],
   "source": [
    "print('hello world')"
   ]
  },
  {
   "cell_type": "markdown",
   "id": "13a348d1-bd83-4afd-bced-e5c9e3074a86",
   "metadata": {},
   "source": [
    "# Python Variables"
   ]
  },
  {
   "cell_type": "code",
   "execution_count": 2,
   "id": "0b492bb7-9a45-4cc6-87cb-aadb702372cc",
   "metadata": {},
   "outputs": [
    {
     "ename": "NameError",
     "evalue": "name 'greeting' is not defined",
     "output_type": "error",
     "traceback": [
      "\u001b[1;31m---------------------------------------------------------------------------\u001b[0m",
      "\u001b[1;31mNameError\u001b[0m                                 Traceback (most recent call last)",
      "Cell \u001b[1;32mIn[2], line 5\u001b[0m\n\u001b[0;32m      1\u001b[0m \u001b[38;5;66;03m# Variables-- container which contains a value, information or data\u001b[39;00m\n\u001b[0;32m      3\u001b[0m greeting3 \u001b[38;5;241m=\u001b[39m \u001b[38;5;124m'\u001b[39m\u001b[38;5;124mGood Morning\u001b[39m\u001b[38;5;124m'\u001b[39m\n\u001b[1;32m----> 5\u001b[0m \u001b[38;5;28mprint\u001b[39m(\u001b[43mgreeting\u001b[49m, \u001b[38;5;124m'\u001b[39m\u001b[38;5;124mTom\u001b[39m\u001b[38;5;124m'\u001b[39m)\n\u001b[0;32m      6\u001b[0m \u001b[38;5;28mprint\u001b[39m(greeting, \u001b[38;5;124m'\u001b[39m\u001b[38;5;124mJhon\u001b[39m\u001b[38;5;124m'\u001b[39m)\n\u001b[0;32m      7\u001b[0m \u001b[38;5;28mprint\u001b[39m(greeting, \u001b[38;5;124m'\u001b[39m\u001b[38;5;124mCat\u001b[39m\u001b[38;5;124m'\u001b[39m)\n",
      "\u001b[1;31mNameError\u001b[0m: name 'greeting' is not defined"
     ]
    }
   ],
   "source": [
    "# Variables-- container which contains a value, information or data\n",
    "\n",
    "greeting3 = 'Good Morning'\n",
    "\n",
    "print(greeting, 'Tom')\n",
    "print(greeting, 'Jhon')\n",
    "print(greeting, 'Cat')\n",
    "\n",
    "number = 2\n",
    "number1 = 2.5\n",
    "\n",
    "print(number, number1)"
   ]
  },
  {
   "cell_type": "markdown",
   "id": "2b2b4847-12c1-46fc-b655-74fef41c063e",
   "metadata": {},
   "source": [
    "# Python Data Types"
   ]
  },
  {
   "cell_type": "code",
   "execution_count": 3,
   "id": "ef99a255-8c73-4f76-9a88-d142c4ec16fb",
   "metadata": {},
   "outputs": [
    {
     "name": "stdout",
     "output_type": "stream",
     "text": [
      "James <class 'str'>\n"
     ]
    }
   ],
   "source": [
    "# text-type\n",
    "\n",
    "name = '''James'''\n",
    "print(name, type(name))"
   ]
  },
  {
   "cell_type": "code",
   "execution_count": 4,
   "id": "af1ae954-d70b-4d0c-a001-59a2e3b36812",
   "metadata": {},
   "outputs": [
    {
     "name": "stdout",
     "output_type": "stream",
     "text": [
      "20 25.5\n",
      "<class 'int'> <class 'float'>\n"
     ]
    }
   ],
   "source": [
    "# Numeric Type\n",
    "num = 20\n",
    "price = 25.5\n",
    "\n",
    "print(num, price)\n",
    "print(type(num), type(price))"
   ]
  },
  {
   "cell_type": "code",
   "execution_count": 5,
   "id": "9fd176d7-e1e0-47e2-845a-bc029c998f6a",
   "metadata": {},
   "outputs": [
    {
     "name": "stdout",
     "output_type": "stream",
     "text": [
      "[1, 2, 3, 4, 5, 6]\n",
      "(2, 5, 7) <class 'tuple'>\n"
     ]
    }
   ],
   "source": [
    "# Sequence Type\n",
    "list = [1,2,3,4,5, 6]\n",
    "print(list)\n",
    "\n",
    "tuple_type = (2, 5, 7)\n",
    "print(tuple_type, type(tuple_type))"
   ]
  },
  {
   "cell_type": "code",
   "execution_count": 6,
   "id": "bc379e7d-03f0-4683-a5aa-4b9a4f6933f7",
   "metadata": {},
   "outputs": [
    {
     "name": "stdout",
     "output_type": "stream",
     "text": [
      "{'name': 'Jhon', 'age': 20} <class 'dict'>\n"
     ]
    }
   ],
   "source": [
    "# Mapping Type\n",
    "\n",
    "data = {'name':'Jhon', 'age': 20}\n",
    "print(data, type(data))"
   ]
  },
  {
   "cell_type": "code",
   "execution_count": 7,
   "id": "fa651bcd-a0c2-4324-931f-2ce4f04ae5de",
   "metadata": {},
   "outputs": [
    {
     "name": "stdout",
     "output_type": "stream",
     "text": [
      "<class 'bool'>\n",
      "<class 'bool'>\n"
     ]
    }
   ],
   "source": [
    "# Boolean Type\n",
    "\n",
    "is_active = True\n",
    "has_money = False\n",
    "print(type(is_active))\n",
    "print(type(has_money))"
   ]
  },
  {
   "cell_type": "code",
   "execution_count": 8,
   "id": "69d06549-9c9b-4db6-ab6a-ad62c0a3cc5a",
   "metadata": {},
   "outputs": [
    {
     "name": "stdout",
     "output_type": "stream",
     "text": [
      "{'Rock', 4.5, 4, 'Jhon', 'James'} <class 'set'>\n"
     ]
    }
   ],
   "source": [
    "# Set Type\n",
    "\n",
    "setType = {'James', 'Jhon', 'Rock', 4, 4.5}\n",
    "print(setType, type(setType))"
   ]
  },
  {
   "cell_type": "code",
   "execution_count": 9,
   "id": "17053af9-8daf-408e-af8b-c1a9ca677022",
   "metadata": {},
   "outputs": [
    {
     "name": "stdout",
     "output_type": "stream",
     "text": [
      "10\n",
      "25\n",
      "0\n",
      "1.0\n"
     ]
    }
   ],
   "source": [
    "# Integer -- negative or positive\n",
    "\n",
    "age = 25\n",
    "temp = -3\n",
    "\n",
    "a = 5\n",
    "b = 5\n",
    "\n",
    "print(a + b)\n",
    "print(a * b)\n",
    "print(a - b)\n",
    "print(a / b)\n"
   ]
  },
  {
   "cell_type": "code",
   "execution_count": 10,
   "id": "8d16f71d-699c-4591-a819-39a24447334d",
   "metadata": {},
   "outputs": [
    {
     "name": "stdout",
     "output_type": "stream",
     "text": [
      "3.0\n",
      "1.25\n",
      "-2.0\n",
      "0.2\n"
     ]
    }
   ],
   "source": [
    "# Float -- negative or positive\n",
    "\n",
    "percent = 0.5\n",
    "height = 1.54\n",
    "\n",
    "a = .5\n",
    "b = 2.5\n",
    "\n",
    "print(a + b)\n",
    "print(a * b)\n",
    "print(a - b)\n",
    "print(a / b)\n"
   ]
  },
  {
   "cell_type": "code",
   "execution_count": 11,
   "id": "6fce4dd3-7f86-474c-9b64-294e801e766a",
   "metadata": {},
   "outputs": [
    {
     "name": "stdout",
     "output_type": "stream",
     "text": [
      "1\n",
      "2\n",
      "125\n"
     ]
    }
   ],
   "source": [
    "number = 5\n",
    "number2 = 3\n",
    "\n",
    "print(number // number2)\n",
    "print(number % number2)\n",
    "print(number ** number2)"
   ]
  },
  {
   "cell_type": "code",
   "execution_count": 12,
   "id": "f367371d-b581-4b80-8022-9a0517519666",
   "metadata": {},
   "outputs": [
    {
     "name": "stdout",
     "output_type": "stream",
     "text": [
      "15\n"
     ]
    }
   ],
   "source": [
    "print(number + 10)"
   ]
  },
  {
   "cell_type": "code",
   "execution_count": 14,
   "id": "913b9f98-647a-44e1-ad17-180fa1503eb4",
   "metadata": {},
   "outputs": [
    {
     "name": "stdout",
     "output_type": "stream",
     "text": [
      "30\n",
      "30\n"
     ]
    }
   ],
   "source": [
    "x = 20\n",
    "x1 = 20\n",
    "\n",
    "x = x + 10 # Output -- 30 \n",
    "print(x)\n",
    "x1 += 10 # x1 = x1 + 10\n",
    "print(x1)"
   ]
  },
  {
   "cell_type": "code",
   "execution_count": 19,
   "id": "fabaacb3-2540-48fd-8cf4-295045b3ac9c",
   "metadata": {},
   "outputs": [
    {
     "name": "stdout",
     "output_type": "stream",
     "text": [
      "False\n",
      "True\n",
      "True\n",
      "True\n"
     ]
    }
   ],
   "source": [
    "# Comparison Operator --- two or more values --- true or fasle\n",
    "\n",
    "a = 10\n",
    "b = 20\n",
    "print(a > b)\n",
    "print(b > a)\n",
    "print(a < b)\n",
    "print( a == 10 )\n"
   ]
  },
  {
   "cell_type": "code",
   "execution_count": 26,
   "id": "68f35110-119a-4082-9ee0-0280e07e8ca4",
   "metadata": {},
   "outputs": [
    {
     "name": "stdout",
     "output_type": "stream",
     "text": [
      "False\n",
      "False\n",
      "True\n"
     ]
    }
   ],
   "source": [
    "# >=, <=, !=\n",
    "\n",
    "x = 4\n",
    "y = 5\n",
    "\n",
    "print(x >= 10)\n",
    "print(x <= 2)\n",
    "print(x != y)"
   ]
  },
  {
   "cell_type": "code",
   "execution_count": 42,
   "id": "7869c7dc-6d53-4432-8642-816cd5c7db0e",
   "metadata": {},
   "outputs": [
    {
     "name": "stdout",
     "output_type": "stream",
     "text": [
      "True\n"
     ]
    }
   ],
   "source": [
    "# Logical Operators -- are used to combine two or more condtional statement or expression\n",
    "# and -- returns True if both statements are true\n",
    "# or  -- returns True if one of the statements is true\n",
    "# not -- revers the result, returns False if the result is true or vice-versa\n",
    "\n",
    "x = 5\n",
    "\n",
    "# print(True and False)\n",
    "\n",
    "# print(x < 10 or x > 10)\n",
    "\n",
    "y = x > 2\n",
    "\n",
    "# print(not(y))\n",
    "\n",
    "print(not(False))"
   ]
  },
  {
   "cell_type": "code",
   "execution_count": 7,
   "id": "e81bbb55-d27c-4b85-9977-33b659a2e46c",
   "metadata": {},
   "outputs": [
    {
     "name": "stdout",
     "output_type": "stream",
     "text": [
      "James\n",
      "James\n",
      "It's\n",
      "It's\n",
      "Quote: \"Hello there\"\n"
     ]
    }
   ],
   "source": [
    "# String --- collection characters or in Python it is array of bytes which unicode characters\n",
    "# single quotation, double quatoation, '', \"\"\n",
    "\n",
    "print('James')\n",
    "print(\"James\")\n",
    "\n",
    "# It's\n",
    "\n",
    "print('It\\'s')\n",
    "print(\"It's\")\n",
    "print(\"Quote: \\\"Hello there\\\"\")"
   ]
  },
  {
   "cell_type": "code",
   "execution_count": 8,
   "id": "66dd5781-914f-4305-9a4b-66be2a3a95e6",
   "metadata": {},
   "outputs": [
    {
     "name": "stdout",
     "output_type": "stream",
     "text": [
      "Software Engineer\n"
     ]
    }
   ],
   "source": [
    "job = \"Software Engineer\"\n",
    "print(job)"
   ]
  },
  {
   "cell_type": "code",
   "execution_count": 11,
   "id": "651e8624-32e1-489b-b9bb-cbd6b2fd1748",
   "metadata": {},
   "outputs": [
    {
     "name": "stdout",
     "output_type": "stream",
     "text": [
      "e\n"
     ]
    }
   ],
   "source": [
    "print(job[7])"
   ]
  },
  {
   "cell_type": "code",
   "execution_count": 12,
   "id": "d47c54c3-54ca-4398-9e54-9dbb86567dfa",
   "metadata": {},
   "outputs": [
    {
     "name": "stdout",
     "output_type": "stream",
     "text": [
      "We are learning Python\n",
      "python is most popular programming language\n"
     ]
    }
   ],
   "source": [
    "a  = \"\"\"We are learning Python\n",
    "python is most popular programming language\"\"\"\n",
    "\n",
    "print(a)"
   ]
  },
  {
   "cell_type": "code",
   "execution_count": 13,
   "id": "e6e89c5c-b4ae-4d0b-924a-e99bfe0d902a",
   "metadata": {},
   "outputs": [
    {
     "name": "stdout",
     "output_type": "stream",
     "text": [
      "We are learning Python\n",
      "python is most popular programming language\n"
     ]
    }
   ],
   "source": [
    "b  = '''We are learning Python\n",
    "python is most popular programming language'''\n",
    "print(b)"
   ]
  },
  {
   "cell_type": "code",
   "execution_count": 27,
   "id": "f0911d82-791d-42d3-a639-c899ed97a59a",
   "metadata": {},
   "outputs": [
    {
     "name": "stdout",
     "output_type": "stream",
     "text": [
      "['Tom', 'Bob']\n",
      "['Tom', 'Bob', 'James']\n",
      "['Tom', 'Bob']\n",
      "['Tom', 'Bob', 'Bob']\n",
      "3\n"
     ]
    }
   ],
   "source": [
    "# Python collection -- four collection data types\n",
    "# List\n",
    "# Tuple\n",
    "# Dictionary\n",
    "# Set\n",
    "\n",
    "# List: collection items -- different kind of items\n",
    "\n",
    "list = [1, True, 'James', 2.5]\n",
    "# print(list)\n",
    "\n",
    "# print(list[0])\n",
    "\n",
    "# Changeable, ordered and can be duplicate items\n",
    "\n",
    "users = ['Tom', 'Bob']\n",
    "print(users)\n",
    "\n",
    "users.append('James')\n",
    "\n",
    "print(users)\n",
    "\n",
    "users.remove('James')\n",
    "print(users)\n",
    "\n",
    "users.append('Bob')\n",
    "print(users)\n",
    "\n",
    "# len()\n",
    "print(len(users))"
   ]
  },
  {
   "cell_type": "code",
   "execution_count": 30,
   "id": "bb4cad00-01ff-45e4-8c53-c0cffa4c9ee8",
   "metadata": {},
   "outputs": [
    {
     "name": "stdout",
     "output_type": "stream",
     "text": [
      "[]\n"
     ]
    }
   ],
   "source": [
    "# pop()\n",
    "# users.pop()\n",
    "\n",
    "# print(users)\n",
    "\n",
    "# insert : insert items at specified position in the list\n",
    "\n",
    "# users.insert(1, 'Jhon')\n",
    "# print(users)\n",
    "\n",
    "# clear(): this clear list\n",
    "\n",
    "users.clear()\n",
    "print(users)\n"
   ]
  },
  {
   "cell_type": "code",
   "execution_count": 31,
   "id": "fbfcf89b-2092-482a-b475-7ca1e34e973d",
   "metadata": {},
   "outputs": [
    {
     "name": "stdout",
     "output_type": "stream",
     "text": [
      "<class 'list'>\n"
     ]
    }
   ],
   "source": [
    "print(type(users))"
   ]
  },
  {
   "cell_type": "code",
   "execution_count": 32,
   "id": "d1528c19-45e6-48f8-a2f0-bb0317876200",
   "metadata": {},
   "outputs": [
    {
     "name": "stdout",
     "output_type": "stream",
     "text": [
      "<class 'tuple'>\n"
     ]
    }
   ],
   "source": [
    "# Tuple: similar to list but it cannot be modified once created\n",
    "\n",
    "person = (2, True, 5.6, 'James')\n",
    "print(type(person))"
   ]
  },
  {
   "cell_type": "code",
   "execution_count": 33,
   "id": "8f41078e-3283-49e4-b26f-176aa03d33e7",
   "metadata": {},
   "outputs": [
    {
     "name": "stdout",
     "output_type": "stream",
     "text": [
      "(2.5,)\n"
     ]
    }
   ],
   "source": [
    "a = (2.5,)\n",
    "print(a)"
   ]
  },
  {
   "cell_type": "code",
   "execution_count": 35,
   "id": "e6762215-7f3e-4d07-b390-1551be6675fc",
   "metadata": {},
   "outputs": [
    {
     "name": "stdout",
     "output_type": "stream",
     "text": [
      "('James', 'James')\n"
     ]
    }
   ],
   "source": [
    "b = ('James', 'James')\n",
    "print(b)"
   ]
  },
  {
   "cell_type": "code",
   "execution_count": 36,
   "id": "2aaf803d-3164-4464-8cab-c12ac2a58ee6",
   "metadata": {},
   "outputs": [
    {
     "name": "stdout",
     "output_type": "stream",
     "text": [
      "2\n"
     ]
    }
   ],
   "source": [
    "print(len(b))"
   ]
  },
  {
   "cell_type": "code",
   "execution_count": 37,
   "id": "67b60b12-96f1-4635-922c-f99f4b5076fa",
   "metadata": {},
   "outputs": [
    {
     "name": "stdout",
     "output_type": "stream",
     "text": [
      "<class 'tuple'>\n"
     ]
    }
   ],
   "source": [
    "c = ()\n",
    "print(type(c))"
   ]
  },
  {
   "cell_type": "code",
   "execution_count": 38,
   "id": "3c99c96d-67fa-4ab4-b31f-dbbfc3ee2f6a",
   "metadata": {},
   "outputs": [
    {
     "name": "stdout",
     "output_type": "stream",
     "text": [
      "()\n"
     ]
    }
   ],
   "source": [
    "print(c)"
   ]
  },
  {
   "cell_type": "code",
   "execution_count": 39,
   "id": "955dd116-b5d8-414f-ada8-79c4d37a8cf5",
   "metadata": {},
   "outputs": [
    {
     "name": "stdout",
     "output_type": "stream",
     "text": [
      "5.6\n"
     ]
    }
   ],
   "source": [
    "print(person[2])"
   ]
  },
  {
   "cell_type": "code",
   "execution_count": 41,
   "id": "d331c69e-0521-4468-beee-fc67dbfc2562",
   "metadata": {},
   "outputs": [
    {
     "data": {
      "text/plain": [
       "2"
      ]
     },
     "execution_count": 41,
     "metadata": {},
     "output_type": "execute_result"
    }
   ],
   "source": [
    "# count() -- number of times a specified value occures in tuple\n",
    "b.count('James')"
   ]
  },
  {
   "cell_type": "code",
   "execution_count": 44,
   "id": "c083abaf-a7b2-44cf-80f4-e605db7fcb47",
   "metadata": {},
   "outputs": [
    {
     "data": {
      "text/plain": [
       "1"
      ]
     },
     "execution_count": 44,
     "metadata": {},
     "output_type": "execute_result"
    }
   ],
   "source": [
    "# index() -- search the tuple fora specfied value and returns the position of that value\n",
    "\n",
    "person.index(1)"
   ]
  },
  {
   "cell_type": "code",
   "execution_count": 16,
   "id": "bdc5a45f-647c-4fee-8965-27c150e43069",
   "metadata": {},
   "outputs": [
    {
     "name": "stdout",
     "output_type": "stream",
     "text": [
      "{True, 20, 4.5, 'apple'}\n"
     ]
    }
   ],
   "source": [
    "# set: It is used to store multiple items in single variable\n",
    "\n",
    "myset = {'apple', True, 20, 4.5}\n",
    "print(myset)\n",
    "\n",
    "# unordered"
   ]
  },
  {
   "cell_type": "code",
   "execution_count": 17,
   "id": "39c56588-870a-4476-9bcf-933d138fa7c3",
   "metadata": {},
   "outputs": [
    {
     "name": "stdout",
     "output_type": "stream",
     "text": [
      "{True, 4.5, 'apple', 'jhon', 20}\n"
     ]
    }
   ],
   "source": [
    "# unchangeable - you can't change value of the set but you can add or remove the items\n",
    "\n",
    "myset.add('jhon')\n",
    "print(myset)"
   ]
  },
  {
   "cell_type": "code",
   "execution_count": 18,
   "id": "6b287b1f-8ae3-4cda-9d84-e5b8d030031e",
   "metadata": {},
   "outputs": [
    {
     "name": "stdout",
     "output_type": "stream",
     "text": [
      "{True, 4.5, 'apple', 'jhon'}\n"
     ]
    }
   ],
   "source": [
    "myset.remove(20)\n",
    "print(myset)"
   ]
  },
  {
   "cell_type": "code",
   "execution_count": 19,
   "id": "5de4dd09-8837-4275-b3d6-8c98687ba8a7",
   "metadata": {},
   "outputs": [
    {
     "name": "stdout",
     "output_type": "stream",
     "text": [
      "{True, 4.5, 'apple', 'jhon'}\n"
     ]
    }
   ],
   "source": [
    "# not allow duplicate values\n",
    "\n",
    "myset.add('apple')\n",
    "print(myset)"
   ]
  },
  {
   "cell_type": "code",
   "execution_count": 20,
   "id": "abe25d43-9c1e-4508-801f-766aa02991b4",
   "metadata": {},
   "outputs": [
    {
     "name": "stdout",
     "output_type": "stream",
     "text": [
      "4\n"
     ]
    }
   ],
   "source": [
    "print(len(myset))"
   ]
  },
  {
   "cell_type": "code",
   "execution_count": 21,
   "id": "0d147d75-0a3a-495c-9ee7-54677e978367",
   "metadata": {},
   "outputs": [
    {
     "name": "stdout",
     "output_type": "stream",
     "text": [
      "{4.5, 'apple', 'jhon'}\n"
     ]
    }
   ],
   "source": [
    "# pop()\n",
    "myset.pop()\n",
    "print(myset)"
   ]
  },
  {
   "cell_type": "code",
   "execution_count": 22,
   "id": "a2a292d3-e054-4bcf-8c17-710e969ac040",
   "metadata": {},
   "outputs": [
    {
     "ename": "KeyError",
     "evalue": "'rock'",
     "output_type": "error",
     "traceback": [
      "\u001b[1;31m---------------------------------------------------------------------------\u001b[0m",
      "\u001b[1;31mKeyError\u001b[0m                                  Traceback (most recent call last)",
      "Cell \u001b[1;32mIn[22], line 3\u001b[0m\n\u001b[0;32m      1\u001b[0m \u001b[38;5;66;03m# discard()\u001b[39;00m\n\u001b[1;32m----> 3\u001b[0m \u001b[43mmyset\u001b[49m\u001b[38;5;241;43m.\u001b[39;49m\u001b[43mremove\u001b[49m\u001b[43m(\u001b[49m\u001b[38;5;124;43m'\u001b[39;49m\u001b[38;5;124;43mrock\u001b[39;49m\u001b[38;5;124;43m'\u001b[39;49m\u001b[43m)\u001b[49m\n\u001b[0;32m      4\u001b[0m \u001b[38;5;28mprint\u001b[39m(myset)\n",
      "\u001b[1;31mKeyError\u001b[0m: 'rock'"
     ]
    }
   ],
   "source": [
    "# discard()\n",
    "\n",
    "myset.remove('rock')\n",
    "print(myset)"
   ]
  },
  {
   "cell_type": "code",
   "execution_count": 23,
   "id": "45cfb20f-62be-4b76-ac7d-ace5a42e25b4",
   "metadata": {},
   "outputs": [
    {
     "name": "stdout",
     "output_type": "stream",
     "text": [
      "{4.5, 'apple', 'jhon'}\n"
     ]
    }
   ],
   "source": [
    "myset.discard('rock')\n",
    "print(myset)"
   ]
  },
  {
   "cell_type": "code",
   "execution_count": 24,
   "id": "60fcdead-d3b0-4f58-8a3b-f684219c0463",
   "metadata": {},
   "outputs": [
    {
     "name": "stdout",
     "output_type": "stream",
     "text": [
      "{4.5, 'apple', 'jhon'}\n"
     ]
    }
   ],
   "source": [
    "# clear()\n",
    "\n",
    "print(myset)"
   ]
  },
  {
   "cell_type": "code",
   "execution_count": 25,
   "id": "dd5fd15e-6eac-4b8a-9c07-43d8ddbd6ff6",
   "metadata": {},
   "outputs": [
    {
     "name": "stdout",
     "output_type": "stream",
     "text": [
      "set()\n"
     ]
    }
   ],
   "source": [
    "myset.clear()\n",
    "print(myset)"
   ]
  },
  {
   "cell_type": "code",
   "execution_count": 27,
   "id": "ab40b0a1-569f-42f8-98a8-9e365695f04c",
   "metadata": {},
   "outputs": [
    {
     "name": "stdout",
     "output_type": "stream",
     "text": [
      "{1: 'James', 'age': 20}\n"
     ]
    }
   ],
   "source": [
    "# dictionary: dictionaries are used to store data as key:value pairs\n",
    "\n",
    "mydict = {1: 'James', 'age': 20}\n",
    "print(mydict)"
   ]
  },
  {
   "cell_type": "code",
   "execution_count": 28,
   "id": "fdd4f8b1-7935-4bf1-9e77-37fe62ced4fd",
   "metadata": {},
   "outputs": [
    {
     "data": {
      "text/plain": [
       "'James'"
      ]
     },
     "execution_count": 28,
     "metadata": {},
     "output_type": "execute_result"
    }
   ],
   "source": [
    "mydict[1]"
   ]
  },
  {
   "cell_type": "code",
   "execution_count": 29,
   "id": "d30f5f4e-18d6-4978-8ddf-d5ad0286349f",
   "metadata": {},
   "outputs": [
    {
     "data": {
      "text/plain": [
       "20"
      ]
     },
     "execution_count": 29,
     "metadata": {},
     "output_type": "execute_result"
    }
   ],
   "source": [
    "mydict['age']"
   ]
  },
  {
   "cell_type": "code",
   "execution_count": 31,
   "id": "e31786a6-a8cd-4d40-86e9-55ece47927df",
   "metadata": {},
   "outputs": [
    {
     "name": "stdout",
     "output_type": "stream",
     "text": [
      "20\n"
     ]
    }
   ],
   "source": [
    "# get()\n",
    "\n",
    "print(mydict.get('age'))"
   ]
  },
  {
   "cell_type": "code",
   "execution_count": 32,
   "id": "d7d7f5e0-483f-4e25-8035-dcea257661c3",
   "metadata": {},
   "outputs": [
    {
     "name": "stdout",
     "output_type": "stream",
     "text": [
      "dict_keys([1, 'age'])\n"
     ]
    }
   ],
   "source": [
    "#keys()\n",
    "\n",
    "print(mydict.keys())"
   ]
  },
  {
   "cell_type": "code",
   "execution_count": 33,
   "id": "f49d8359-3b57-4b38-9abe-453eefd8a5c1",
   "metadata": {},
   "outputs": [
    {
     "name": "stdout",
     "output_type": "stream",
     "text": [
      "dict_values(['James', 20])\n"
     ]
    }
   ],
   "source": [
    "# values()\n",
    "print(mydict.values())"
   ]
  },
  {
   "cell_type": "code",
   "execution_count": 34,
   "id": "df976eb3-319e-4473-8fcc-a6e600ae54e5",
   "metadata": {},
   "outputs": [
    {
     "name": "stdout",
     "output_type": "stream",
     "text": [
      "{1: 'James', 'age': 25}\n"
     ]
    }
   ],
   "source": [
    "# change the value of dict\n",
    "\n",
    "mydict['age'] = 25\n",
    "\n",
    "print(mydict)"
   ]
  },
  {
   "cell_type": "code",
   "execution_count": 35,
   "id": "c52dd8a0-0f79-4417-988f-25a2b5db6bf5",
   "metadata": {},
   "outputs": [
    {
     "name": "stdout",
     "output_type": "stream",
     "text": [
      "{1: 'James', 'age': 25}\n"
     ]
    }
   ],
   "source": [
    "# update()\n",
    "\n",
    "print(mydict)"
   ]
  },
  {
   "cell_type": "code",
   "execution_count": 36,
   "id": "47f6f7e1-de94-4635-9924-e8452875966a",
   "metadata": {},
   "outputs": [
    {
     "name": "stdout",
     "output_type": "stream",
     "text": [
      "None\n"
     ]
    }
   ],
   "source": [
    "print(mydict.update({1:'Jhon'}))"
   ]
  },
  {
   "cell_type": "code",
   "execution_count": 37,
   "id": "5a1e5473-3c56-480a-92c0-bbc1266ad0be",
   "metadata": {},
   "outputs": [
    {
     "name": "stdout",
     "output_type": "stream",
     "text": [
      "{1: 'Jhon', 'age': 25}\n"
     ]
    }
   ],
   "source": [
    "print(mydict)"
   ]
  },
  {
   "cell_type": "code",
   "execution_count": 38,
   "id": "595f350f-c27b-4796-bb15-b50afebbd222",
   "metadata": {},
   "outputs": [
    {
     "name": "stdout",
     "output_type": "stream",
     "text": [
      "{1: 'Jhon', 'age': 25, 'gender': 'male'}\n"
     ]
    }
   ],
   "source": [
    "# add the value to the dict\n",
    "\n",
    "mydict['gender'] = 'male'\n",
    "\n",
    "print(mydict)"
   ]
  },
  {
   "cell_type": "code",
   "execution_count": 39,
   "id": "2dd0d2dd-fdf6-4717-bf9e-07298d0985a7",
   "metadata": {},
   "outputs": [
    {
     "name": "stdout",
     "output_type": "stream",
     "text": [
      "{1: 'Jhon', 'age': 25, 'gender': 'male', 'country': 'USA'}\n"
     ]
    }
   ],
   "source": [
    "mydict.update({'country': 'USA'})\n",
    "print(mydict)"
   ]
  },
  {
   "cell_type": "code",
   "execution_count": 40,
   "id": "e0729eea-ff5c-42b0-b2cc-40f039c3157c",
   "metadata": {},
   "outputs": [
    {
     "name": "stdout",
     "output_type": "stream",
     "text": [
      "{1: 'Jhon', 'age': 25, 'gender': 'male'}\n"
     ]
    }
   ],
   "source": [
    "# remove dict\n",
    "\n",
    "# pop()\n",
    "mydict.pop('country')\n",
    "print(mydict)\n"
   ]
  },
  {
   "cell_type": "code",
   "execution_count": 41,
   "id": "3f742556-c1ca-4df0-a922-7c8103f2f53f",
   "metadata": {},
   "outputs": [
    {
     "name": "stdout",
     "output_type": "stream",
     "text": [
      "{1: 'Jhon', 'age': 25}\n"
     ]
    }
   ],
   "source": [
    "# del keyword\n",
    "\n",
    "del mydict['gender']\n",
    "print(mydict)"
   ]
  },
  {
   "cell_type": "code",
   "execution_count": 42,
   "id": "1226e92e-81de-4c6f-8872-022394f5b7a6",
   "metadata": {},
   "outputs": [
    {
     "name": "stdout",
     "output_type": "stream",
     "text": [
      "{}\n"
     ]
    }
   ],
   "source": [
    "# clear()\n",
    "mydict.clear()\n",
    "print(mydict)"
   ]
  },
  {
   "cell_type": "markdown",
   "id": "62c9eeeb-0080-4530-8422-766d481a38d6",
   "metadata": {},
   "source": [
    "# Python Control and Flow"
   ]
  },
  {
   "cell_type": "code",
   "execution_count": 46,
   "id": "72297d60-3b37-45e5-a662-46549f50bbd4",
   "metadata": {},
   "outputs": [],
   "source": [
    "# control and flow -- the order in which individual statements, instructions, or function calls are executed or evaluted.\n",
    "# Python provides serveral control flow statements that help developers define the execution logic of a program\n",
    "\n",
    "# conditional statments : if, if-else, if-elif-else\n",
    "# Looping statments : for loop, while loop\n",
    "# control flow keywords: break, continue, pass"
   ]
  },
  {
   "cell_type": "code",
   "execution_count": 56,
   "id": "785660bb-05cd-4cdb-92ca-5fdaa21957d2",
   "metadata": {},
   "outputs": [
    {
     "name": "stdout",
     "output_type": "stream",
     "text": [
      "X is smaller than 20\n"
     ]
    }
   ],
   "source": [
    "# condtional statements -- allow the execution of different bloacks of code based on whether a condition to True or False.\n",
    "# if\n",
    "x = 10\n",
    "if True:\n",
    "    print('X is smaller than 20')"
   ]
  },
  {
   "cell_type": "code",
   "execution_count": 57,
   "id": "c9a2a093-62be-4935-af9b-8136c2f9bdc5",
   "metadata": {},
   "outputs": [
    {
     "name": "stdout",
     "output_type": "stream",
     "text": [
      "True\n"
     ]
    }
   ],
   "source": [
    "print(x < 20)"
   ]
  },
  {
   "cell_type": "code",
   "execution_count": 58,
   "id": "2652ba12-a5e7-41b6-bc11-cf96ed177296",
   "metadata": {},
   "outputs": [
    {
     "name": "stdout",
     "output_type": "stream",
     "text": [
      "X is not smaller than 20\n"
     ]
    }
   ],
   "source": [
    "if x < 10 :\n",
    "    print('X is smaller than 20')\n",
    "else:\n",
    "    print('X is not smaller than 20')"
   ]
  },
  {
   "cell_type": "code",
   "execution_count": 61,
   "id": "951750f9-d751-4dfc-b652-02f05535dac2",
   "metadata": {},
   "outputs": [
    {
     "name": "stdout",
     "output_type": "stream",
     "text": [
      "x is equal to 5\n"
     ]
    }
   ],
   "source": [
    "# elif\n",
    "\n",
    "x = 5\n",
    "if False:\n",
    "    print('x is greater than 20')\n",
    "elif x == 15:\n",
    "    print('x is equal to 15')\n",
    "elif x == 5:\n",
    "    print('x is equal to 5')\n",
    "else:\n",
    "    print('x is less than 15')\n"
   ]
  },
  {
   "cell_type": "code",
   "execution_count": 3,
   "id": "ab6ff692-4c46-4a9c-8088-015c55ebf6fe",
   "metadata": {},
   "outputs": [
    {
     "name": "stdout",
     "output_type": "stream",
     "text": [
      "James\n",
      "Bob\n",
      "Rock\n"
     ]
    }
   ],
   "source": [
    "# looping statement\n",
    "# for loop and while\n",
    "\n",
    "# for loop: iterate over sequence (list, tuple, set, dictionary,or range)\n",
    "\n",
    "# for variable in sequence:\n",
    "    # block of code that you will be executed for each element in the sequence\n",
    "\n",
    "users = ['James', 'Bob', 'Rock']\n",
    "\n",
    "for user_name in users:\n",
    "    print(user_name)\n",
    "    \n"
   ]
  },
  {
   "cell_type": "code",
   "execution_count": 4,
   "id": "226f7155-c4be-45d2-bb95-774f5028c2a7",
   "metadata": {},
   "outputs": [
    {
     "name": "stdout",
     "output_type": "stream",
     "text": [
      "h\n",
      "e\n",
      "l\n",
      "l\n",
      "o\n"
     ]
    }
   ],
   "source": [
    "word = 'hello'\n",
    "for character in word:\n",
    "    print(character)"
   ]
  },
  {
   "cell_type": "code",
   "execution_count": 5,
   "id": "eecf92cc-4c4c-4514-aa20-fe705fbc68b4",
   "metadata": {},
   "outputs": [
    {
     "name": "stdout",
     "output_type": "stream",
     "text": [
      "20\n",
      "21\n",
      "22\n",
      "23\n",
      "24\n"
     ]
    }
   ],
   "source": [
    "# range() : generate sequence of numbers\n",
    "# range(5): 0, 1, 2, 3, 4\n",
    "\n",
    "x = 20\n",
    "\n",
    "for i in range(5):\n",
    "    print(x + i)\n",
    "    \n",
    "    "
   ]
  },
  {
   "cell_type": "code",
   "execution_count": 6,
   "id": "f25bc2c5-4516-47d4-bbf9-fc77412003d5",
   "metadata": {},
   "outputs": [
    {
     "name": "stdout",
     "output_type": "stream",
     "text": [
      "James\n",
      "30\n",
      "New York\n"
     ]
    }
   ],
   "source": [
    "# dictionary\n",
    "person = {'name': 'James', 'age': 30, 'city': 'New York'}\n",
    "\n",
    "for user in person:\n",
    "    print(person[user])\n"
   ]
  },
  {
   "cell_type": "code",
   "execution_count": 1,
   "id": "1d2bed8e-4db9-49d2-a746-b4d04980f82d",
   "metadata": {},
   "outputs": [
    {
     "name": "stdout",
     "output_type": "stream",
     "text": [
      "1\n",
      "2\n",
      "3\n",
      "4\n",
      "5\n"
     ]
    }
   ],
   "source": [
    "# repeatedly executes a block of code as long as a given condition is True, Unlike the for loop, which iterates over a sequence\n",
    "# the while loop continues until the condition becomes False\n",
    "\n",
    "# while condition:\n",
    "    # code block to execute\n",
    "\n",
    "i = 1\n",
    "\n",
    "while i <=5:\n",
    "    print(i)\n",
    "    i += 1 # Increment i by 1 in each iteration\n"
   ]
  },
  {
   "cell_type": "code",
   "execution_count": 3,
   "id": "94a6a492-c046-4ddf-8d2c-4073cab6bd3a",
   "metadata": {},
   "outputs": [
    {
     "name": "stdout",
     "output_type": "stream",
     "text": [
      "10\n",
      "9\n",
      "8\n",
      "7\n",
      "6\n",
      "5\n",
      "4\n",
      "3\n",
      "2\n",
      "1\n"
     ]
    }
   ],
   "source": [
    "counter = 10\n",
    "while counter > 0:\n",
    "    print(counter)\n",
    "    counter -= 1"
   ]
  },
  {
   "cell_type": "code",
   "execution_count": 9,
   "id": "54d549a3-f03e-4be9-9ae3-44c33bd307cc",
   "metadata": {},
   "outputs": [
    {
     "name": "stdout",
     "output_type": "stream",
     "text": [
      "1\n"
     ]
    }
   ],
   "source": [
    "# control flow : break, continue and pass\n",
    "# break: break the execution or flow\n",
    "\n",
    "number = [1, 3, 5, 6]\n",
    "for i in number:\n",
    "    if i==3:\n",
    "        break\n",
    "    print(i)\n",
    "        "
   ]
  },
  {
   "cell_type": "code",
   "execution_count": 12,
   "id": "61a7fa8c-632b-4f70-878b-0afbe1bd0cb9",
   "metadata": {},
   "outputs": [
    {
     "name": "stdout",
     "output_type": "stream",
     "text": [
      "1\n",
      "5\n",
      "6\n"
     ]
    }
   ],
   "source": [
    "# continue : it skips the iteration\n",
    "\n",
    "for i in number:\n",
    "    print(i)\n",
    "    if i == 3:\n",
    "        continue\n",
    "\n"
   ]
  },
  {
   "cell_type": "code",
   "execution_count": 13,
   "id": "6b5c9df3-feb0-4691-b43a-e7f61380e60f",
   "metadata": {},
   "outputs": [
    {
     "name": "stdout",
     "output_type": "stream",
     "text": [
      "0\n",
      "1\n",
      "2\n",
      "3\n",
      "4\n"
     ]
    }
   ],
   "source": [
    "# pass : null operation and it does nothing\n",
    "\n",
    "for i in range(5):\n",
    "    if i==3:\n",
    "        pass # Do nothing when i equal to 3 , just act as placeholder for the future code that yet to be written\n",
    "    print(i)"
   ]
  },
  {
   "cell_type": "markdown",
   "id": "b0559fcf-4061-44ef-8100-61e91da272a7",
   "metadata": {},
   "source": [
    "# Python functions"
   ]
  },
  {
   "cell_type": "code",
   "execution_count": 4,
   "id": "9a6b840d-90b7-43ac-83d9-2a1a0fd38121",
   "metadata": {},
   "outputs": [
    {
     "name": "stdout",
     "output_type": "stream",
     "text": [
      "Hello, there\n"
     ]
    }
   ],
   "source": [
    "# function\n",
    "\n",
    "# def function_name():\n",
    "    # function body : block of code\n",
    "# defining function name greet\n",
    "def greet():\n",
    "    print('Hello, there')\n",
    "\n",
    "greet() # calling the function"
   ]
  },
  {
   "cell_type": "code",
   "execution_count": 5,
   "id": "d20986e4-3f60-4c1b-aa5e-ff956574294c",
   "metadata": {},
   "outputs": [
    {
     "name": "stdout",
     "output_type": "stream",
     "text": [
      "Hello, there\n",
      "Hello, there\n"
     ]
    }
   ],
   "source": [
    "greet()\n",
    "greet()"
   ]
  },
  {
   "cell_type": "code",
   "execution_count": 7,
   "id": "769b8764-deb7-43a8-b132-cd7eece8b9d3",
   "metadata": {},
   "outputs": [
    {
     "name": "stdout",
     "output_type": "stream",
     "text": [
      "9\n",
      "1\n"
     ]
    }
   ],
   "source": [
    "# parameters and arguments\n",
    "\n",
    "def add(x, y):\n",
    "    print(x + y)\n",
    "\n",
    "add(4, 5)\n",
    "\n",
    "def sub(z, k):\n",
    "    print(z - k)\n",
    "\n",
    "sub(5, 4)"
   ]
  },
  {
   "cell_type": "code",
   "execution_count": 12,
   "id": "1e0f1929-3b42-4bbe-b73d-2c7556c205af",
   "metadata": {},
   "outputs": [
    {
     "name": "stdout",
     "output_type": "stream",
     "text": [
      "9\n",
      "60\n"
     ]
    }
   ],
   "source": [
    "# reutrn values\n",
    "def add(x, y):\n",
    "    return x+y\n",
    "\n",
    "result = add(4, 5)\n",
    "print(result)\n",
    "\n",
    "def mul(x, y, z):\n",
    "    return x * y * z\n",
    "\n",
    "res_mul = mul(x=3, y=4, z=5)\n",
    "print(res_mul)"
   ]
  },
  {
   "cell_type": "code",
   "execution_count": 14,
   "id": "26b275bd-64a1-4bea-b157-49f19370cc68",
   "metadata": {},
   "outputs": [
    {
     "name": "stdout",
     "output_type": "stream",
     "text": [
      "Hello, Friend\n",
      "Hello, Bobby\n"
     ]
    }
   ],
   "source": [
    "# default parameters\n",
    "\n",
    "def greet(name='Friend'):\n",
    "    print(f\"Hello, {name}\")\n",
    "\n",
    "greet()\n",
    "greet(\"Bobby\")\n",
    "    "
   ]
  },
  {
   "cell_type": "code",
   "execution_count": 16,
   "id": "7d09e437-cf26-4adf-8a17-65656dd00a84",
   "metadata": {},
   "outputs": [
    {
     "name": "stdout",
     "output_type": "stream",
     "text": [
      "1\n",
      "2\n",
      "3\n",
      "4\n",
      "5\n",
      "6\n"
     ]
    }
   ],
   "source": [
    "# Aribitrary Arguments\n",
    "def print_numbers(*args):\n",
    "    for number in args:\n",
    "        print(number)\n",
    "print_numbers(1,2, 3, 4, 5, 6)"
   ]
  },
  {
   "cell_type": "code",
   "execution_count": 18,
   "id": "1a1343f0-9939-4217-867d-fde8eae22c30",
   "metadata": {},
   "outputs": [
    {
     "name": "stdout",
     "output_type": "stream",
     "text": [
      "{'name': 'Bobby', 'age': 25, 'country': 'USA'}\n"
     ]
    }
   ],
   "source": [
    "# Aribitrary Keyword Arguments : *args, **kwargs\n",
    "\n",
    "def describe_person(**kwargs):\n",
    "    print(kwargs)\n",
    "\n",
    "describe_person(name = \"Bobby\", age=25, country=\"USA\")"
   ]
  },
  {
   "cell_type": "code",
   "execution_count": 19,
   "id": "ddf8c28a-3feb-4f75-bbb5-fe6ab7aaebdd",
   "metadata": {},
   "outputs": [
    {
     "name": "stdout",
     "output_type": "stream",
     "text": [
      "7\n"
     ]
    }
   ],
   "source": [
    "# lambda function \n",
    "\n",
    "add = lambda a,b : a + b\n",
    "\n",
    "print(add(3, 4))"
   ]
  },
  {
   "cell_type": "code",
   "execution_count": 20,
   "id": "adec48bd-e1be-4187-80ac-628206d5a1e9",
   "metadata": {},
   "outputs": [
    {
     "name": "stdout",
     "output_type": "stream",
     "text": [
      "-6\n"
     ]
    }
   ],
   "source": [
    "sub = lambda a,b,c : a-b-c\n",
    "print(sub(3,4,5))"
   ]
  },
  {
   "cell_type": "markdown",
   "id": "6f882016-d5d4-4ed7-ac0c-3d4f8787d86b",
   "metadata": {},
   "source": [
    "# Recursion"
   ]
  },
  {
   "cell_type": "code",
   "execution_count": 1,
   "id": "c2e2d537-5100-4e6b-8e43-9ab0cf84c286",
   "metadata": {},
   "outputs": [
    {
     "name": "stdout",
     "output_type": "stream",
     "text": [
      "24\n"
     ]
    }
   ],
   "source": [
    "# recursion: It is concept when function call itself to solve a smaller part of a bigger problem.\n",
    "# base case: This is the condition that stops the recursion, preventing infinite calls\n",
    "# recursive case: This is where the function calls itself with a smaller or simpler input.\n",
    "\n",
    "# factorial: n! --> 2! = 2 * 1 --> 2\n",
    "\n",
    "# 3! = 3 * 2 * 1 ---> 6\n",
    "\n",
    "# n! = n * (n-1) ---- recursive case\n",
    "\n",
    "# 1! = 1 ---- base case\n",
    "\n",
    "def factorial(n):\n",
    "    if n == 1:\n",
    "        return 1\n",
    "    else:\n",
    "        return n * factorial(n-1)\n",
    "\n",
    "\n",
    "print(factorial(4))"
   ]
  },
  {
   "cell_type": "code",
   "execution_count": 5,
   "id": "41a845c1-d905-4943-8e82-1ff4322f578a",
   "metadata": {},
   "outputs": [
    {
     "name": "stdout",
     "output_type": "stream",
     "text": [
      "Hello, Bobby, You are 25 years old\n"
     ]
    }
   ],
   "source": [
    "# positional and keyword argument\n",
    "\n",
    "def greet(name, age):\n",
    "    print(f\"Hello, {name}, You are {age} years old\")\n",
    "\n",
    "\n",
    "# greet(\"Bobby\", 25)\n",
    "\n",
    "greet(age = 25, name = \"Bobby\")\n"
   ]
  },
  {
   "cell_type": "code",
   "execution_count": 10,
   "id": "fd8941c0-34d7-4e36-bf93-b01d59c5f0f5",
   "metadata": {},
   "outputs": [
    {
     "name": "stdout",
     "output_type": "stream",
     "text": [
      "Hello, bobby, You are 23 years old\n"
     ]
    }
   ],
   "source": [
    "# / -- positional args\n",
    "# * -- keyword args\n",
    "\n",
    "def greet(name,/, *, age):\n",
    "    print(f\"Hello, {name}, You are {age} years old\")\n",
    "\n",
    "\n",
    "greet(\"bobby\", age = 23)\n"
   ]
  },
  {
   "cell_type": "code",
   "execution_count": 4,
   "id": "ef465a85-7bba-48d7-bddf-e5a38ef01ab7",
   "metadata": {
    "scrolled": true
   },
   "outputs": [
    {
     "name": "stdin",
     "output_type": "stream",
     "text": [
      "Enter the integer value 10\n"
     ]
    },
    {
     "name": "stdout",
     "output_type": "stream",
     "text": [
      "<class 'str'>\n"
     ]
    }
   ],
   "source": [
    "# input() : takes input or data from the user\n",
    "\n",
    "# a = 10\n",
    "\n",
    "b = input(\"Enter the integer value\")\n",
    "print(type(b))"
   ]
  },
  {
   "cell_type": "code",
   "execution_count": 9,
   "id": "baaee113-258c-4235-9cf4-52c80a587934",
   "metadata": {},
   "outputs": [
    {
     "name": "stdout",
     "output_type": "stream",
     "text": [
      "<class 'int'>\n",
      "converted to float 100.0 <class 'float'>\n"
     ]
    }
   ],
   "source": [
    "# Type conversion or typecast\n",
    "\n",
    "b = \"100\"\n",
    "type(b)\n",
    "\n",
    "c = int(b)\n",
    "print(type(c))\n",
    "\n",
    "d = float(b)\n",
    "print(f\"converted to float {d}\", type(d))"
   ]
  },
  {
   "cell_type": "code",
   "execution_count": 11,
   "id": "f74646f5-8836-4a7f-83e3-9018fc526cf3",
   "metadata": {},
   "outputs": [
    {
     "name": "stdout",
     "output_type": "stream",
     "text": [
      "converted to string 100 <class 'str'>\n"
     ]
    }
   ],
   "source": [
    "y = 100\n",
    "e = str(y)\n",
    "print(f\"converted to string {e}\", type(e))"
   ]
  },
  {
   "cell_type": "code",
   "execution_count": 12,
   "id": "17d73ac4-f3f6-4f61-9b2f-ce3b1161033b",
   "metadata": {},
   "outputs": [
    {
     "name": "stdin",
     "output_type": "stream",
     "text": [
      "Enter the integer value 10\n"
     ]
    },
    {
     "name": "stdout",
     "output_type": "stream",
     "text": [
      "<class 'int'>\n"
     ]
    }
   ],
   "source": [
    "b = int(input(\"Enter the integer value\"))\n",
    "print(type(b))"
   ]
  },
  {
   "cell_type": "markdown",
   "id": "453b8dfa-e225-4d3c-ae54-2533fcd75996",
   "metadata": {},
   "source": [
    "# Error Handling"
   ]
  },
  {
   "cell_type": "code",
   "execution_count": 4,
   "id": "f4810a72-cf94-4d0d-aed0-31bc4511da65",
   "metadata": {},
   "outputs": [
    {
     "name": "stdout",
     "output_type": "stream",
     "text": [
      "You can not divide by zero\n",
      "4\n"
     ]
    }
   ],
   "source": [
    "# try-except, else, \n",
    "\n",
    "try:\n",
    "    print(1/0)\n",
    "except ZeroDivisionError:\n",
    "    print(f\"You can not divide by zero\")\n",
    "\n",
    "print(2+2)"
   ]
  },
  {
   "cell_type": "code",
   "execution_count": 5,
   "id": "56bfd245-d6e5-462c-9f1b-45ea4af172c9",
   "metadata": {},
   "outputs": [
    {
     "ename": "NameError",
     "evalue": "name 'spam' is not defined",
     "output_type": "error",
     "traceback": [
      "\u001b[1;31m---------------------------------------------------------------------------\u001b[0m",
      "\u001b[1;31mNameError\u001b[0m                                 Traceback (most recent call last)",
      "Cell \u001b[1;32mIn[5], line 1\u001b[0m\n\u001b[1;32m----> 1\u001b[0m x \u001b[38;5;241m=\u001b[39m \u001b[38;5;241m2\u001b[39m \u001b[38;5;241m*\u001b[39m \u001b[43mspam\u001b[49m\n\u001b[0;32m      2\u001b[0m \u001b[38;5;28mprint\u001b[39m(x)\n",
      "\u001b[1;31mNameError\u001b[0m: name 'spam' is not defined"
     ]
    }
   ],
   "source": [
    "x = 2 * spam\n",
    "print(x)"
   ]
  },
  {
   "cell_type": "code",
   "execution_count": 6,
   "id": "15c2615a-b543-4837-a9db-4763f8d01e44",
   "metadata": {},
   "outputs": [
    {
     "name": "stdout",
     "output_type": "stream",
     "text": [
      "The NameError has occured\n",
      "1\n"
     ]
    }
   ],
   "source": [
    "try:\n",
    "    x = 2 * spam\n",
    "except NameError:\n",
    "    print(\"The NameError has occured\")\n",
    "y = 4 -3\n",
    "print(y)"
   ]
  },
  {
   "cell_type": "code",
   "execution_count": 8,
   "id": "86df92f8-c39e-4a0b-ac92-2c9ac6750a46",
   "metadata": {},
   "outputs": [
    {
     "name": "stdout",
     "output_type": "stream",
     "text": [
      "You can not divide by zero\n"
     ]
    }
   ],
   "source": [
    "try:\n",
    "    x = 2 / 0\n",
    "    y = 2 * 2\n",
    "except ZeroDivisionError:\n",
    "    print(f\"You can not divide by zero\")\n",
    "except NameError:\n",
    "    print(\"The NameError has occured\")"
   ]
  },
  {
   "cell_type": "code",
   "execution_count": 9,
   "id": "75acceb4-a2a5-4236-84e2-31e0d8e23c3b",
   "metadata": {},
   "outputs": [
    {
     "name": "stdout",
     "output_type": "stream",
     "text": [
      " division result 2.0 and mulitplication result 4\n"
     ]
    }
   ],
   "source": [
    "# else\n",
    "try:\n",
    "    x = 2 / 1\n",
    "    y = 2 * 2\n",
    "except ZeroDivisionError:\n",
    "    print(f\"You can not divide by zero\")\n",
    "except NameError:\n",
    "    print(\"The NameError has occured\")\n",
    "else:\n",
    "    print(f\" division result {x} and mulitplication result {y}\")"
   ]
  },
  {
   "cell_type": "code",
   "execution_count": 2,
   "id": "ed95f9a3-edcc-47cf-aab0-7a1b3ea27a89",
   "metadata": {},
   "outputs": [
    {
     "name": "stdout",
     "output_type": "stream",
     "text": [
      "You can not divide by zero\n",
      "try-exept executed successfully\n"
     ]
    }
   ],
   "source": [
    "# finally statement\n",
    "\n",
    "\n",
    "try:\n",
    "    x = 2 / 0\n",
    "    y = 2 * 2\n",
    "except ZeroDivisionError:\n",
    "    print(f\"You can not divide by zero\")\n",
    "except NameError:\n",
    "    print(\"The NameError has occured\")\n",
    "else:\n",
    "    print(f\" division result {x} and mulitplication result {y}\")\n",
    "\n",
    "finally:\n",
    "    print(\"try-exept executed successfully\")\n",
    "    # close objects and clean some resources\n",
    "\n",
    "# https://docs.python.org/3/tutorial/errors.html"
   ]
  },
  {
   "cell_type": "code",
   "execution_count": 11,
   "id": "56793969-f600-410b-8265-3cc7f26faa05",
   "metadata": {},
   "outputs": [
    {
     "ename": "ValueError",
     "evalue": "Not a valid age...",
     "output_type": "error",
     "traceback": [
      "\u001b[1;31m---------------------------------------------------------------------------\u001b[0m",
      "\u001b[1;31mValueError\u001b[0m                                Traceback (most recent call last)",
      "Cell \u001b[1;32mIn[11], line 13\u001b[0m\n\u001b[0;32m     10\u001b[0m         \u001b[38;5;28mprint\u001b[39m(\u001b[38;5;124m'\u001b[39m\u001b[38;5;124mYou are not old enough!\u001b[39m\u001b[38;5;124m'\u001b[39m)\n\u001b[0;32m     11\u001b[0m         \u001b[38;5;28;01mreturn\u001b[39;00m \u001b[38;5;28;01mFalse\u001b[39;00m\n\u001b[1;32m---> 13\u001b[0m \u001b[43mcheck_age\u001b[49m\u001b[43m(\u001b[49m\u001b[38;5;241;43m-\u001b[39;49m\u001b[38;5;241;43m12\u001b[39;49m\u001b[43m)\u001b[49m\n",
      "Cell \u001b[1;32mIn[11], line 5\u001b[0m, in \u001b[0;36mcheck_age\u001b[1;34m(age)\u001b[0m\n\u001b[0;32m      3\u001b[0m \u001b[38;5;28;01mdef\u001b[39;00m \u001b[38;5;21mcheck_age\u001b[39m(age):\n\u001b[0;32m      4\u001b[0m     \u001b[38;5;28;01mif\u001b[39;00m age \u001b[38;5;241m<\u001b[39m \u001b[38;5;241m0\u001b[39m:\n\u001b[1;32m----> 5\u001b[0m         \u001b[38;5;28;01mraise\u001b[39;00m \u001b[38;5;167;01mValueError\u001b[39;00m(\u001b[38;5;124m'\u001b[39m\u001b[38;5;124mNot a valid age...\u001b[39m\u001b[38;5;124m'\u001b[39m)\n\u001b[0;32m      6\u001b[0m     \u001b[38;5;28;01melif\u001b[39;00m age \u001b[38;5;241m>\u001b[39m\u001b[38;5;241m=\u001b[39m \u001b[38;5;241m21\u001b[39m:\n\u001b[0;32m      7\u001b[0m         \u001b[38;5;28mprint\u001b[39m(\u001b[38;5;124m'\u001b[39m\u001b[38;5;124mYou are old enough!\u001b[39m\u001b[38;5;124m'\u001b[39m)\n",
      "\u001b[1;31mValueError\u001b[0m: Not a valid age..."
     ]
    }
   ],
   "source": [
    "# raise\n",
    "\n",
    "def check_age(age):\n",
    "    if age < 0:\n",
    "        raise ValueError('Not a valid age...')\n",
    "    elif age >= 21:\n",
    "        print('You are old enough!')\n",
    "        return True\n",
    "    else:\n",
    "        print('You are not old enough!')\n",
    "        return False\n",
    "\n",
    "check_age(-12)"
   ]
  },
  {
   "cell_type": "markdown",
   "id": "c5fb2282-04cc-4be3-b571-775755b615ad",
   "metadata": {},
   "source": [
    "# Python module, package and library"
   ]
  },
  {
   "cell_type": "code",
   "execution_count": 23,
   "id": "e31e352b-cd6a-4788-a8d3-d541463b8ec6",
   "metadata": {},
   "outputs": [],
   "source": [
    "# moduel: single file with .py and this contains all the code like functions, classses and variables\n",
    "\n",
    "# built-in module\n",
    "\n",
    "import math\n"
   ]
  },
  {
   "cell_type": "code",
   "execution_count": 24,
   "id": "665df74b-5bb2-4bb0-b710-5dc9aebdfa7f",
   "metadata": {},
   "outputs": [
    {
     "data": {
      "text/plain": [
       "4.0"
      ]
     },
     "execution_count": 24,
     "metadata": {},
     "output_type": "execute_result"
    }
   ],
   "source": [
    "math.sqrt(16)"
   ]
  },
  {
   "cell_type": "code",
   "execution_count": 25,
   "id": "df97d2cd-9e82-4f30-8a33-7ca2b9a5b9d4",
   "metadata": {},
   "outputs": [
    {
     "data": {
      "text/plain": [
       "3.141592653589793"
      ]
     },
     "execution_count": 25,
     "metadata": {},
     "output_type": "execute_result"
    }
   ],
   "source": [
    "math.pi"
   ]
  },
  {
   "cell_type": "code",
   "execution_count": 26,
   "id": "6e3603b8-ae5c-4323-8416-6b5cee112673",
   "metadata": {},
   "outputs": [],
   "source": [
    "import os"
   ]
  },
  {
   "cell_type": "code",
   "execution_count": 27,
   "id": "b8561561-c3e9-44e9-9330-c991cc5b7b53",
   "metadata": {},
   "outputs": [
    {
     "data": {
      "text/plain": [
       "'C:\\\\Users\\\\saura\\\\OneDrive\\\\Desktop\\\\Python'"
      ]
     },
     "execution_count": 27,
     "metadata": {},
     "output_type": "execute_result"
    }
   ],
   "source": [
    "os.getcwd()"
   ]
  },
  {
   "cell_type": "code",
   "execution_count": 29,
   "id": "27da300f-6aa3-4da6-867c-e9117ac87300",
   "metadata": {},
   "outputs": [],
   "source": [
    "os.mkdir('data')"
   ]
  },
  {
   "cell_type": "code",
   "execution_count": 30,
   "id": "b5f91a46-21a2-43ff-bcc2-5c9e383818a6",
   "metadata": {},
   "outputs": [
    {
     "data": {
      "text/plain": [
       "'3.12.6 (tags/v3.12.6:a4a2d2b, Sep  6 2024, 20:11:23) [MSC v.1940 64 bit (AMD64)]'"
      ]
     },
     "execution_count": 30,
     "metadata": {},
     "output_type": "execute_result"
    }
   ],
   "source": [
    "import sys\n",
    "\n",
    "sys.version"
   ]
  },
  {
   "cell_type": "code",
   "execution_count": 31,
   "id": "024c1119-b5fc-4fbd-bcc3-b14bcea11f7c",
   "metadata": {},
   "outputs": [
    {
     "name": "stdout",
     "output_type": "stream",
     "text": [
      "2024-09-29 10:21:55.095491\n"
     ]
    }
   ],
   "source": [
    "import datetime\n",
    "\n",
    "now = datetime.datetime.now()\n",
    "print(now)"
   ]
  },
  {
   "cell_type": "code",
   "execution_count": 1,
   "id": "c12edc84-d5cd-4ed0-99a6-5e3f74b98193",
   "metadata": {},
   "outputs": [],
   "source": [
    "# create module\n",
    "\n",
    "import mymodule"
   ]
  },
  {
   "cell_type": "code",
   "execution_count": 2,
   "id": "5dcb0ad8-9073-4a91-8243-18596e57b3bb",
   "metadata": {},
   "outputs": [
    {
     "name": "stdout",
     "output_type": "stream",
     "text": [
      "Hello, Jhon\n"
     ]
    }
   ],
   "source": [
    "mymodule.show('Jhon')"
   ]
  },
  {
   "cell_type": "code",
   "execution_count": 3,
   "id": "4981f86d-3c7e-465e-9740-6f5e31cdd2a5",
   "metadata": {},
   "outputs": [
    {
     "data": {
      "text/plain": [
       "7"
      ]
     },
     "execution_count": 3,
     "metadata": {},
     "output_type": "execute_result"
    }
   ],
   "source": [
    "mymodule.add(3,4)"
   ]
  },
  {
   "cell_type": "code",
   "execution_count": 4,
   "id": "1371bc0c-6196-40a9-9bd0-a077e4287ac5",
   "metadata": {},
   "outputs": [
    {
     "data": {
      "text/plain": [
       "{'age': 20, 'name': 'James'}"
      ]
     },
     "execution_count": 4,
     "metadata": {},
     "output_type": "execute_result"
    }
   ],
   "source": [
    "mymodule.person"
   ]
  },
  {
   "cell_type": "code",
   "execution_count": 5,
   "id": "78aee777-3da2-4028-baa3-d35c1c94a266",
   "metadata": {},
   "outputs": [],
   "source": [
    "from mymodule import show"
   ]
  },
  {
   "cell_type": "code",
   "execution_count": 6,
   "id": "718d5e4c-9f1e-46ef-81c3-ae4a2e345f4f",
   "metadata": {},
   "outputs": [
    {
     "name": "stdout",
     "output_type": "stream",
     "text": [
      "Hello, Rock\n"
     ]
    }
   ],
   "source": [
    "show('Rock')"
   ]
  },
  {
   "cell_type": "code",
   "execution_count": 7,
   "id": "73f344e4-daf4-4a35-9ba1-7554982e6c87",
   "metadata": {},
   "outputs": [],
   "source": [
    "# package: collection of modules, can contains sub-packages\n",
    "\n",
    "from mathify import cal\n"
   ]
  },
  {
   "cell_type": "code",
   "execution_count": 8,
   "id": "4b4ed714-4a3b-4e82-ba3c-251d179cf5e8",
   "metadata": {},
   "outputs": [
    {
     "name": "stdout",
     "output_type": "stream",
     "text": [
      "<module 'mathify.cal' from 'C:\\\\Users\\\\saura\\\\OneDrive\\\\Desktop\\\\Python\\\\mathify\\\\cal.py'>\n"
     ]
    }
   ],
   "source": [
    "print(cal)"
   ]
  },
  {
   "cell_type": "code",
   "execution_count": 9,
   "id": "03459710-993e-451f-9f0d-534cf01a58ce",
   "metadata": {},
   "outputs": [
    {
     "data": {
      "text/plain": [
       "8"
      ]
     },
     "execution_count": 9,
     "metadata": {},
     "output_type": "execute_result"
    }
   ],
   "source": [
    "cal.add(3, 5)"
   ]
  },
  {
   "cell_type": "code",
   "execution_count": 10,
   "id": "93640421-3c4a-42ab-a57d-9e4f7d7ad6d7",
   "metadata": {},
   "outputs": [
    {
     "data": {
      "text/plain": [
       "-1"
      ]
     },
     "execution_count": 10,
     "metadata": {},
     "output_type": "execute_result"
    }
   ],
   "source": [
    "cal.sub(5,6)"
   ]
  },
  {
   "cell_type": "code",
   "execution_count": 11,
   "id": "bbdc2893-cc26-4cdc-b735-35c277ab2bf6",
   "metadata": {},
   "outputs": [
    {
     "data": {
      "text/plain": [
       "2.0"
      ]
     },
     "execution_count": 11,
     "metadata": {},
     "output_type": "execute_result"
    }
   ],
   "source": [
    "cal.div(4,2)"
   ]
  },
  {
   "cell_type": "code",
   "execution_count": null,
   "id": "c43ecef3-acee-4720-86ed-88f55d62de77",
   "metadata": {},
   "outputs": [],
   "source": [
    "# library: \n",
    "# create new folder -- meaningful name\n",
    "# include packages, moudle or subpackages"
   ]
  },
  {
   "cell_type": "markdown",
   "id": "8fe6cd33-2bec-45be-9d60-f33ed8d6e363",
   "metadata": {},
   "source": [
    "# Python Basic Continued"
   ]
  },
  {
   "cell_type": "code",
   "execution_count": 1,
   "id": "b02ec550-0e9e-45f4-93e0-b2b85e4ffd19",
   "metadata": {},
   "outputs": [
    {
     "name": "stdout",
     "output_type": "stream",
     "text": [
      "five is greater than 2\n"
     ]
    }
   ],
   "source": [
    "# True and False\n",
    "\n",
    "a = 5 > 2\n",
    "\n",
    "if a:\n",
    "    print('five is greater than 2')\n",
    "else:\n",
    "    print('Five is not greater than 2')"
   ]
  },
  {
   "cell_type": "code",
   "execution_count": 2,
   "id": "9ff97874-bb65-4bff-a4ac-1525bc7af002",
   "metadata": {},
   "outputs": [
    {
     "name": "stdout",
     "output_type": "stream",
     "text": [
      "5\n"
     ]
    }
   ],
   "source": [
    "# Truthy and Falsy\n",
    "\n",
    "x = 5\n",
    "if x:\n",
    "    print(f'{x}')"
   ]
  },
  {
   "cell_type": "code",
   "execution_count": 3,
   "id": "fe37c038-0ffd-4d23-8123-3b191a47130a",
   "metadata": {},
   "outputs": [
    {
     "data": {
      "text/plain": [
       "True"
      ]
     },
     "execution_count": 3,
     "metadata": {},
     "output_type": "execute_result"
    }
   ],
   "source": [
    "# bool()\n",
    "\n",
    "bool(x)"
   ]
  },
  {
   "cell_type": "code",
   "execution_count": 4,
   "id": "a0dffa97-ba45-412a-9ecf-adb9c822aec9",
   "metadata": {},
   "outputs": [
    {
     "data": {
      "text/plain": [
       "True"
      ]
     },
     "execution_count": 4,
     "metadata": {},
     "output_type": "execute_result"
    }
   ],
   "source": [
    "bool(4)"
   ]
  },
  {
   "cell_type": "code",
   "execution_count": 7,
   "id": "7c73f42b-551f-4ed7-8a5a-9023fb0a2f1a",
   "metadata": {},
   "outputs": [
    {
     "data": {
      "text/plain": [
       "True"
      ]
     },
     "execution_count": 7,
     "metadata": {},
     "output_type": "execute_result"
    }
   ],
   "source": [
    "# 1 == True\n",
    "# 0 == False\n",
    "\n",
    "bool(1)\n",
    "\n"
   ]
  },
  {
   "cell_type": "code",
   "execution_count": 8,
   "id": "41b5516b-a1e9-4db4-b39e-f2e464d9fe01",
   "metadata": {},
   "outputs": [
    {
     "data": {
      "text/plain": [
       "False"
      ]
     },
     "execution_count": 8,
     "metadata": {},
     "output_type": "execute_result"
    }
   ],
   "source": [
    "bool(0)"
   ]
  },
  {
   "cell_type": "code",
   "execution_count": 10,
   "id": "6ecee9ed-efa1-4c93-9a47-c5b1619f3311",
   "metadata": {},
   "outputs": [
    {
     "name": "stdout",
     "output_type": "stream",
     "text": [
      "This is the falsy value\n"
     ]
    }
   ],
   "source": [
    "# 1 or 0 with if and while, then it will work fine\n",
    "\n",
    "# if 1:\n",
    "#     print('This is the truthy value')\n",
    "\n",
    "if 0:\n",
    "    print('This is the truthy value')\n",
    "else:\n",
    "    print('This is the falsy value')"
   ]
  },
  {
   "cell_type": "code",
   "execution_count": 15,
   "id": "f6e1bc6e-cf51-4808-9b35-6563e5cd1632",
   "metadata": {},
   "outputs": [
    {
     "data": {
      "text/plain": [
       "False"
      ]
     },
     "execution_count": 15,
     "metadata": {},
     "output_type": "execute_result"
    }
   ],
   "source": [
    "a = []\n",
    "\n",
    "bool(a)"
   ]
  },
  {
   "cell_type": "code",
   "execution_count": 17,
   "id": "28e49b43-a62e-402a-9a12-7a0caf268ed2",
   "metadata": {},
   "outputs": [
    {
     "data": {
      "text/plain": [
       "False"
      ]
     },
     "execution_count": 17,
     "metadata": {},
     "output_type": "execute_result"
    }
   ],
   "source": [
    "t = ()\n",
    "bool(t)"
   ]
  },
  {
   "cell_type": "code",
   "execution_count": 20,
   "id": "51e29bf3-1250-44d9-9513-e90dec0ce1e3",
   "metadata": {},
   "outputs": [
    {
     "data": {
      "text/plain": [
       "False"
      ]
     },
     "execution_count": 20,
     "metadata": {},
     "output_type": "execute_result"
    }
   ],
   "source": [
    "# [],(),{}, set(), \"\", range(0) : Falsy which means False value\n",
    "\n",
    "# Zero of any numeric type is falsy or false value\n",
    "bool(0j)"
   ]
  },
  {
   "cell_type": "code",
   "execution_count": 21,
   "id": "812638d3-9732-45fc-b279-6fffba46bbd0",
   "metadata": {},
   "outputs": [
    {
     "data": {
      "text/plain": [
       "False"
      ]
     },
     "execution_count": 21,
     "metadata": {},
     "output_type": "execute_result"
    }
   ],
   "source": [
    "# constants like None and False is falsy or false value\n",
    "bool(None)"
   ]
  },
  {
   "cell_type": "code",
   "execution_count": 22,
   "id": "2bbaddb0-8cf6-43f0-acc8-545ba535f824",
   "metadata": {},
   "outputs": [
    {
     "data": {
      "text/plain": [
       "False"
      ]
     },
     "execution_count": 22,
     "metadata": {},
     "output_type": "execute_result"
    }
   ],
   "source": [
    "bool(False)"
   ]
  },
  {
   "cell_type": "code",
   "execution_count": 24,
   "id": "0b5d68e8-de11-4dec-ab61-505d3049dc54",
   "metadata": {},
   "outputs": [
    {
     "data": {
      "text/plain": [
       "True"
      ]
     },
     "execution_count": 24,
     "metadata": {},
     "output_type": "execute_result"
    }
   ],
   "source": [
    "# if collections or sequences are not empty then these are truthy or true values\n",
    "# Numeric value that are not zero is truthy value or true value\n",
    "# True"
   ]
  },
  {
   "cell_type": "code",
   "execution_count": 26,
   "id": "41f57094-bafc-4b02-ad00-569bfc0c01d8",
   "metadata": {},
   "outputs": [
    {
     "name": "stdout",
     "output_type": "stream",
     "text": [
      "list is empty\n"
     ]
    }
   ],
   "source": [
    "users = []\n",
    "\n",
    "if users:\n",
    "    print('list contains users')\n",
    "else:\n",
    "    print('list is empty')\n",
    "    "
   ]
  },
  {
   "cell_type": "code",
   "execution_count": 32,
   "id": "d2ada2ba-a8d1-4f02-99ba-7f658023e3df",
   "metadata": {},
   "outputs": [
    {
     "name": "stdout",
     "output_type": "stream",
     "text": [
      "10\n"
     ]
    }
   ],
   "source": [
    "# scopes\n",
    "# global and local scopes\n",
    "\n",
    "number = 10\n",
    "\n",
    "# number = 20\n",
    "# print(number)\n",
    "\n",
    "def change_number():\n",
    "    print(number)\n",
    "\n",
    "change_number()\n"
   ]
  },
  {
   "cell_type": "code",
   "execution_count": 43,
   "id": "d339cc43-4c8f-46a1-8c3b-8a8e194d386c",
   "metadata": {},
   "outputs": [
    {
     "ename": "NameError",
     "evalue": "name 'number1' is not defined",
     "output_type": "error",
     "traceback": [
      "\u001b[1;31m---------------------------------------------------------------------------\u001b[0m",
      "\u001b[1;31mNameError\u001b[0m                                 Traceback (most recent call last)",
      "Cell \u001b[1;32mIn[43], line 12\u001b[0m\n\u001b[0;32m      8\u001b[0m         \u001b[38;5;28mprint\u001b[39m(number)\n\u001b[0;32m     10\u001b[0m     inner_func()\n\u001b[1;32m---> 12\u001b[0m \u001b[38;5;28mprint\u001b[39m(\u001b[43mnumber1\u001b[49m)\n",
      "\u001b[1;31mNameError\u001b[0m: name 'number1' is not defined"
     ]
    }
   ],
   "source": [
    "def number():\n",
    "    # global number\n",
    "    number1 = 10\n",
    "    print(number)\n",
    "    def inner_func():\n",
    "        nonlocal number1\n",
    "        number1 = 40\n",
    "        print(number)\n",
    "\n",
    "    inner_func()\n",
    "    \n",
    "print(number1) "
   ]
  },
  {
   "cell_type": "code",
   "execution_count": 2,
   "id": "27b32326-27cc-49e2-8e21-437e833b9920",
   "metadata": {},
   "outputs": [
    {
     "name": "stdout",
     "output_type": "stream",
     "text": [
      "['apple', 'banana', 'mango']\n"
     ]
    }
   ],
   "source": [
    "# list comprehension : shorter syntax for creating a new list based on the values of an existing list\n",
    "\n",
    "fruits = ['apple', 'banana', 'cherry', 'kiwi', 'mango']\n",
    "\n",
    "# new_list = []\n",
    "\n",
    "# for x in fruits:\n",
    "#     if 'a' in x:\n",
    "#         new_list.append(x)\n",
    "        \n",
    "# print(new_list)\n",
    "\n",
    "\n",
    "new_list = [ x for x in fruits if 'a' in x]\n",
    "print(new_list)"
   ]
  },
  {
   "cell_type": "code",
   "execution_count": 3,
   "id": "360eb8e4-0d0a-4481-90d9-2e9d4218a07b",
   "metadata": {},
   "outputs": [
    {
     "name": "stdout",
     "output_type": "stream",
     "text": [
      "['apple', 'banana', 'cherry', 'kiwi', 'mango']\n"
     ]
    }
   ],
   "source": [
    "new_fruit_list = []\n",
    "\n",
    "for x in fruits:\n",
    "    new_fruit_list.append(x)\n",
    "\n",
    "print(new_fruit_list)"
   ]
  },
  {
   "cell_type": "code",
   "execution_count": 4,
   "id": "ea9c9c4a-e180-4f10-bc55-c25e7d43ad63",
   "metadata": {},
   "outputs": [
    {
     "name": "stdout",
     "output_type": "stream",
     "text": [
      "['apple', 'banana', 'cherry', 'kiwi', 'mango']\n"
     ]
    }
   ],
   "source": [
    "new_fruit_list2 = [ x for x in fruits ]\n",
    "print(new_fruit_list2)"
   ]
  },
  {
   "cell_type": "code",
   "execution_count": 5,
   "id": "17af900c-4bfb-472a-9858-64127df2ced1",
   "metadata": {},
   "outputs": [
    {
     "name": "stdout",
     "output_type": "stream",
     "text": [
      "[0, 1, 2, 3, 4]\n"
     ]
    }
   ],
   "source": [
    "numbers = [k for k in range(5)]\n",
    "print(numbers)"
   ]
  },
  {
   "cell_type": "code",
   "execution_count": 19,
   "id": "a26c817e-3e72-495c-9be6-0ac0a78ef5c2",
   "metadata": {},
   "outputs": [
    {
     "data": {
      "text/plain": [
       "[3, 4, 5, 6]"
      ]
     },
     "execution_count": 19,
     "metadata": {},
     "output_type": "execute_result"
    }
   ],
   "source": [
    "# slicing \n",
    "\n",
    "sequences = [1, 2, 3, 4, 5, 6]\n",
    "\n",
    "sequences[0:3]\n",
    "\n",
    "sequences[1:4]\n",
    "\n",
    "# iterable[starting_index : ending_index + 1]\n",
    "\n",
    "sequences[2:6]\n",
    "\n"
   ]
  },
  {
   "cell_type": "code",
   "execution_count": 21,
   "id": "7dff9654-5613-4de5-a9ca-e47f059399da",
   "metadata": {},
   "outputs": [
    {
     "data": {
      "text/plain": [
       "[4, 5, 6]"
      ]
     },
     "execution_count": 21,
     "metadata": {},
     "output_type": "execute_result"
    }
   ],
   "source": [
    "sequences[3:]"
   ]
  },
  {
   "cell_type": "code",
   "execution_count": 23,
   "id": "8ed95899-b6e9-4df4-874e-8f8e1d6c882c",
   "metadata": {},
   "outputs": [
    {
     "data": {
      "text/plain": [
       "[1, 2, 3]"
      ]
     },
     "execution_count": 23,
     "metadata": {},
     "output_type": "execute_result"
    }
   ],
   "source": [
    "sequences[:3]"
   ]
  },
  {
   "cell_type": "code",
   "execution_count": 24,
   "id": "924934af-9e80-4330-85de-945b814bfee5",
   "metadata": {},
   "outputs": [
    {
     "data": {
      "text/plain": [
       "[1, 2, 3, 4, 5, 6]"
      ]
     },
     "execution_count": 24,
     "metadata": {},
     "output_type": "execute_result"
    }
   ],
   "source": [
    "sequences[: 6]"
   ]
  },
  {
   "cell_type": "code",
   "execution_count": 26,
   "id": "61fe9911-097f-4092-8e6e-77f788147e6d",
   "metadata": {},
   "outputs": [
    {
     "data": {
      "text/plain": [
       "[1, 2, 3, 4, 5, 6]"
      ]
     },
     "execution_count": 26,
     "metadata": {},
     "output_type": "execute_result"
    }
   ],
   "source": [
    "sequences[:3] + sequences[3:]"
   ]
  },
  {
   "cell_type": "code",
   "execution_count": 34,
   "id": "38e257b8-21ef-422f-807d-a8180cdba59d",
   "metadata": {},
   "outputs": [
    {
     "data": {
      "text/plain": [
       "6"
      ]
     },
     "execution_count": 34,
     "metadata": {},
     "output_type": "execute_result"
    }
   ],
   "source": [
    "sequences[-1]"
   ]
  },
  {
   "cell_type": "code",
   "execution_count": 35,
   "id": "4d11e30a-24a5-456c-a0db-3e34c9a91ba5",
   "metadata": {},
   "outputs": [
    {
     "data": {
      "text/plain": [
       "5"
      ]
     },
     "execution_count": 35,
     "metadata": {},
     "output_type": "execute_result"
    }
   ],
   "source": [
    "sequences[-2]"
   ]
  },
  {
   "cell_type": "code",
   "execution_count": 36,
   "id": "b38594a5-fbca-45d0-b799-a0d9077887df",
   "metadata": {},
   "outputs": [
    {
     "data": {
      "text/plain": [
       "[4, 5, 6]"
      ]
     },
     "execution_count": 36,
     "metadata": {},
     "output_type": "execute_result"
    }
   ],
   "source": [
    "sequences[-3:]"
   ]
  },
  {
   "cell_type": "code",
   "execution_count": 37,
   "id": "b6540c9e-3774-4cd8-9593-3b3e598b6158",
   "metadata": {},
   "outputs": [
    {
     "data": {
      "text/plain": [
       "[1, 2, 3]"
      ]
     },
     "execution_count": 37,
     "metadata": {},
     "output_type": "execute_result"
    }
   ],
   "source": [
    "sequences[:-3]"
   ]
  },
  {
   "cell_type": "code",
   "execution_count": 38,
   "id": "e2b4cf77-9c8f-49f7-a653-29af05174af4",
   "metadata": {},
   "outputs": [
    {
     "data": {
      "text/plain": [
       "[4]"
      ]
     },
     "execution_count": 38,
     "metadata": {},
     "output_type": "execute_result"
    }
   ],
   "source": [
    "sequences[-3:-2]"
   ]
  },
  {
   "cell_type": "code",
   "execution_count": 40,
   "id": "c0c31163-a6c2-4a4a-9136-e0ffa537c17a",
   "metadata": {},
   "outputs": [
    {
     "data": {
      "text/plain": [
       "[1, 4]"
      ]
     },
     "execution_count": 40,
     "metadata": {},
     "output_type": "execute_result"
    }
   ],
   "source": [
    "sequences = [1, 2, 3, 4, 5, 6]\n",
    "\n",
    "sequences[::3]"
   ]
  },
  {
   "cell_type": "code",
   "execution_count": null,
   "id": "9fbda269-c789-4eb5-9dc3-cb659c82906c",
   "metadata": {},
   "outputs": [],
   "source": [
    "# iterable[start:end:step=1]"
   ]
  },
  {
   "cell_type": "code",
   "execution_count": 41,
   "id": "c52a4a22-102c-4280-8034-7a1b0859d2a4",
   "metadata": {},
   "outputs": [
    {
     "data": {
      "text/plain": [
       "'m'"
      ]
     },
     "execution_count": 41,
     "metadata": {},
     "output_type": "execute_result"
    }
   ],
   "source": [
    "name = 'james'\n",
    "name[2]"
   ]
  },
  {
   "cell_type": "code",
   "execution_count": 42,
   "id": "a61f71f7-5c93-4214-ac48-083dba9e1401",
   "metadata": {},
   "outputs": [
    {
     "data": {
      "text/plain": [
       "'me'"
      ]
     },
     "execution_count": 42,
     "metadata": {},
     "output_type": "execute_result"
    }
   ],
   "source": [
    "name[2:4]"
   ]
  },
  {
   "cell_type": "code",
   "execution_count": 43,
   "id": "be8ce300-0456-4f69-8f89-50ea11d03614",
   "metadata": {},
   "outputs": [
    {
     "data": {
      "text/plain": [
       "'mes'"
      ]
     },
     "execution_count": 43,
     "metadata": {},
     "output_type": "execute_result"
    }
   ],
   "source": [
    "name[-3:]"
   ]
  },
  {
   "cell_type": "code",
   "execution_count": null,
   "id": "1597cc09-580e-4aca-afe7-2889a3abeaff",
   "metadata": {},
   "outputs": [],
   "source": []
  }
 ],
 "metadata": {
  "kernelspec": {
   "display_name": "Python 3 (ipykernel)",
   "language": "python",
   "name": "python3"
  },
  "language_info": {
   "codemirror_mode": {
    "name": "ipython",
    "version": 3
   },
   "file_extension": ".py",
   "mimetype": "text/x-python",
   "name": "python",
   "nbconvert_exporter": "python",
   "pygments_lexer": "ipython3",
   "version": "3.12.6"
  }
 },
 "nbformat": 4,
 "nbformat_minor": 5
}
