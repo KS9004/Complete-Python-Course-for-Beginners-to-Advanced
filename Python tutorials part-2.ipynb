{
 "cells": [
  {
   "cell_type": "markdown",
   "id": "11e0440f-25f3-4b8d-9615-e00af2231b59",
   "metadata": {},
   "source": [
    "# Python OOPs Concepts"
   ]
  },
  {
   "cell_type": "code",
   "execution_count": null,
   "id": "1a866eb7-9286-4384-92d5-bd040865dfcc",
   "metadata": {},
   "outputs": [],
   "source": [
    "# OOP (object Oriented Programming): It is way to structure code by bundling related data and the methods (functions) that operate on that data into objects.\n",
    "# OOP concepts help organize large and complex code in a more intutive, maintainable, and reusable way.\n",
    "\n",
    "# Key concepts of OPP\n",
    "# 1. Class\n",
    "# 2. Attributes\n",
    "# 3. Methods\n",
    "# 4. Object\n",
    "# 5. Encapsulation\n",
    "# 6. Inheritance\n",
    "# 7. Polymorphism\n",
    "# 8. Abstraction"
   ]
  },
  {
   "cell_type": "code",
   "execution_count": 8,
   "id": "4edb5647-6133-41aa-86ec-b0758e61217d",
   "metadata": {},
   "outputs": [],
   "source": [
    "# class : blueprint \n",
    "# object: instance of blueprint\n",
    "# Attributes: variables that belong to the class or object\n",
    "# Methods: function can manipulate on the data of the class or object, behaviour\n",
    "\n",
    "# class -- attributes + methods --- object\n",
    "\n",
    "class House:\n",
    "    def __init__(self,color, size, number_of_rooms):\n",
    "        self.color = color\n",
    "        self.size = size\n",
    "        self.number_of_rooms = number_of_rooms\n",
    "\n",
    "    def open_door(self):\n",
    "        print(f\"The door of the {self.color} house is now open.\")\n",
    "    def turn_on_light(self):\n",
    "        print(f\"The lights in the {self.size} hosue are now on.\")\n",
    "    def lock(self):\n",
    "        print(f\"The {self.size} house with {self.number_of_rooms} rooms is now locked.\")\n",
    "        \n"
   ]
  },
  {
   "cell_type": "code",
   "execution_count": 9,
   "id": "04237cd7-291d-4935-837a-573d67442252",
   "metadata": {},
   "outputs": [],
   "source": [
    " house = House(\"blue\", \"large\", 5)"
   ]
  },
  {
   "cell_type": "code",
   "execution_count": 10,
   "id": "dceb335b-69cf-4fb5-90d2-97db5bc73b17",
   "metadata": {},
   "outputs": [
    {
     "data": {
      "text/plain": [
       "'blue'"
      ]
     },
     "execution_count": 10,
     "metadata": {},
     "output_type": "execute_result"
    }
   ],
   "source": [
    "house.color"
   ]
  },
  {
   "cell_type": "code",
   "execution_count": 11,
   "id": "99654418-7312-4cc5-90d8-4fe1f08e48b7",
   "metadata": {},
   "outputs": [
    {
     "data": {
      "text/plain": [
       "'large'"
      ]
     },
     "execution_count": 11,
     "metadata": {},
     "output_type": "execute_result"
    }
   ],
   "source": [
    "house.size"
   ]
  },
  {
   "cell_type": "code",
   "execution_count": 12,
   "id": "e6e1ada0-b197-4bb0-b0cd-52e845d5f2ad",
   "metadata": {},
   "outputs": [
    {
     "data": {
      "text/plain": [
       "5"
      ]
     },
     "execution_count": 12,
     "metadata": {},
     "output_type": "execute_result"
    }
   ],
   "source": [
    "house.number_of_rooms"
   ]
  },
  {
   "cell_type": "code",
   "execution_count": 13,
   "id": "103e774c-4879-40de-826d-94a408f4fb59",
   "metadata": {},
   "outputs": [
    {
     "name": "stdout",
     "output_type": "stream",
     "text": [
      "The door of the blue house is now open.\n"
     ]
    }
   ],
   "source": [
    "house.open_door()"
   ]
  },
  {
   "cell_type": "code",
   "execution_count": 15,
   "id": "ec468037-eed1-4db5-a4a5-553d758dc9d5",
   "metadata": {},
   "outputs": [
    {
     "name": "stdout",
     "output_type": "stream",
     "text": [
      "The lights in the large hosue are now on.\n"
     ]
    }
   ],
   "source": [
    "house.turn_on_light()"
   ]
  },
  {
   "cell_type": "code",
   "execution_count": 16,
   "id": "f76eb95c-57d7-4cbd-94d2-892a65153bc7",
   "metadata": {},
   "outputs": [
    {
     "name": "stdout",
     "output_type": "stream",
     "text": [
      "The large house with 5 rooms is now locked.\n"
     ]
    }
   ],
   "source": [
    "house.lock()"
   ]
  },
  {
   "cell_type": "code",
   "execution_count": 17,
   "id": "ba982ed7-d11e-4d61-afa7-aaa84544dfc4",
   "metadata": {},
   "outputs": [],
   "source": [
    "house1 = House(\"green\", \"small\", 2)"
   ]
  },
  {
   "cell_type": "code",
   "execution_count": 18,
   "id": "ecce5f36-d4e6-4dcf-b51d-ac2aa61e45d6",
   "metadata": {},
   "outputs": [
    {
     "data": {
      "text/plain": [
       "'green'"
      ]
     },
     "execution_count": 18,
     "metadata": {},
     "output_type": "execute_result"
    }
   ],
   "source": [
    "house1.color"
   ]
  },
  {
   "cell_type": "code",
   "execution_count": 19,
   "id": "f9bd3e6a-4491-40a5-91b4-bd083bb99d9f",
   "metadata": {},
   "outputs": [
    {
     "data": {
      "text/plain": [
       "'small'"
      ]
     },
     "execution_count": 19,
     "metadata": {},
     "output_type": "execute_result"
    }
   ],
   "source": [
    "house1.size"
   ]
  },
  {
   "cell_type": "code",
   "execution_count": 20,
   "id": "182ac90d-a588-4fdf-b022-881157eaafd4",
   "metadata": {},
   "outputs": [
    {
     "data": {
      "text/plain": [
       "2"
      ]
     },
     "execution_count": 20,
     "metadata": {},
     "output_type": "execute_result"
    }
   ],
   "source": [
    "house1.number_of_rooms"
   ]
  },
  {
   "cell_type": "code",
   "execution_count": 21,
   "id": "ea041869-c9da-420f-8b88-44a8453bb092",
   "metadata": {},
   "outputs": [
    {
     "name": "stdout",
     "output_type": "stream",
     "text": [
      "The door of the green house is now open.\n"
     ]
    }
   ],
   "source": [
    "house1.open_door()"
   ]
  },
  {
   "cell_type": "code",
   "execution_count": 22,
   "id": "50a536ea-1bee-4bcb-aa98-ec9498192bf9",
   "metadata": {},
   "outputs": [],
   "source": [
    "# instance and instantiation\n",
    "\n",
    "house3 = House(\"Orange\", \"Medium\", 3)"
   ]
  },
  {
   "cell_type": "code",
   "execution_count": 26,
   "id": "521e6dab-a0ce-4666-bf14-5c574703e56e",
   "metadata": {},
   "outputs": [],
   "source": [
    "class Dog:\n",
    "    def __init__(self,name, breed, age):\n",
    "        self.name = name\n",
    "        self.breed = breed\n",
    "        self.age = age\n",
    "\n",
    "    def bark(self):\n",
    "        print(f\"{self.name} is barking\")\n",
    "    def sit(self):\n",
    "        print(f\"{self.name} is sitting\")\n",
    "    def fetch(self, item):\n",
    "        print(f\"{self.name} fetched the {item}\")\n",
    "\n"
   ]
  },
  {
   "cell_type": "code",
   "execution_count": 27,
   "id": "b1b0c8de-b94c-46d2-9c67-464fcc6ecba2",
   "metadata": {},
   "outputs": [],
   "source": [
    "dog = Dog(\"Buddy\", \"Golden Reteriever\", 3)"
   ]
  },
  {
   "cell_type": "code",
   "execution_count": 28,
   "id": "e0634f28-07f0-498f-b0f5-23e3a208f077",
   "metadata": {},
   "outputs": [
    {
     "data": {
      "text/plain": [
       "'Buddy'"
      ]
     },
     "execution_count": 28,
     "metadata": {},
     "output_type": "execute_result"
    }
   ],
   "source": [
    "dog.name"
   ]
  },
  {
   "cell_type": "code",
   "execution_count": 29,
   "id": "05fadda0-b2e5-4b27-aa6d-cbb9def89f1f",
   "metadata": {},
   "outputs": [
    {
     "data": {
      "text/plain": [
       "'Golden Reteriever'"
      ]
     },
     "execution_count": 29,
     "metadata": {},
     "output_type": "execute_result"
    }
   ],
   "source": [
    "dog.breed"
   ]
  },
  {
   "cell_type": "code",
   "execution_count": 30,
   "id": "bb3420b8-74a5-43f5-a160-4ebf99bdc018",
   "metadata": {},
   "outputs": [
    {
     "data": {
      "text/plain": [
       "3"
      ]
     },
     "execution_count": 30,
     "metadata": {},
     "output_type": "execute_result"
    }
   ],
   "source": [
    "dog.age"
   ]
  },
  {
   "cell_type": "code",
   "execution_count": 31,
   "id": "3732d45f-1d51-45b7-9da9-aaeee8e3b445",
   "metadata": {},
   "outputs": [
    {
     "name": "stdout",
     "output_type": "stream",
     "text": [
      "Buddy is barking\n"
     ]
    }
   ],
   "source": [
    "dog.bark()"
   ]
  },
  {
   "cell_type": "code",
   "execution_count": 32,
   "id": "011eb995-c6a1-4d63-82f5-ddfddaf60bc0",
   "metadata": {},
   "outputs": [
    {
     "name": "stdout",
     "output_type": "stream",
     "text": [
      "Buddy is sitting\n"
     ]
    }
   ],
   "source": [
    "dog.sit()"
   ]
  },
  {
   "cell_type": "code",
   "execution_count": 33,
   "id": "b0e7204d-4bfb-4bd8-ae1c-a8deb5242083",
   "metadata": {},
   "outputs": [
    {
     "name": "stdout",
     "output_type": "stream",
     "text": [
      "Buddy fetched the ball\n"
     ]
    }
   ],
   "source": [
    "dog.fetch(\"ball\")"
   ]
  },
  {
   "cell_type": "code",
   "execution_count": 40,
   "id": "29882d10-3713-4abb-a3c9-4dc6475cf632",
   "metadata": {},
   "outputs": [],
   "source": [
    "class Dogs:\n",
    "    def bark(self):\n",
    "        print(\"The dog is barking\")"
   ]
  },
  {
   "cell_type": "code",
   "execution_count": 42,
   "id": "4f4ffaed-88f8-4ea5-be26-918bd27ed582",
   "metadata": {},
   "outputs": [],
   "source": [
    "dogs = Dogs()"
   ]
  },
  {
   "cell_type": "code",
   "execution_count": 43,
   "id": "912f913d-5b75-436b-8bf6-af9a26e88202",
   "metadata": {},
   "outputs": [
    {
     "name": "stdout",
     "output_type": "stream",
     "text": [
      "The dog is barking\n"
     ]
    }
   ],
   "source": [
    "dogs.bark()"
   ]
  },
  {
   "cell_type": "code",
   "execution_count": 44,
   "id": "2fc115a5-29fb-4b40-82d3-a50d4054683c",
   "metadata": {},
   "outputs": [],
   "source": [
    "dogs.name = \"Tommy\""
   ]
  },
  {
   "cell_type": "code",
   "execution_count": 45,
   "id": "d9185197-729a-4b86-88a7-e6aa7e872a82",
   "metadata": {},
   "outputs": [
    {
     "data": {
      "text/plain": [
       "'Tommy'"
      ]
     },
     "execution_count": 45,
     "metadata": {},
     "output_type": "execute_result"
    }
   ],
   "source": [
    "dogs.name"
   ]
  },
  {
   "cell_type": "code",
   "execution_count": 46,
   "id": "6991d480-8871-416d-9d24-ce45e2757902",
   "metadata": {},
   "outputs": [],
   "source": [
    "dogs.breed = \"Golden Reteriever\""
   ]
  },
  {
   "cell_type": "code",
   "execution_count": 47,
   "id": "50c13347-6b64-4c89-be01-ef0cf2545c7a",
   "metadata": {},
   "outputs": [
    {
     "data": {
      "text/plain": [
       "'Golden Reteriever'"
      ]
     },
     "execution_count": 47,
     "metadata": {},
     "output_type": "execute_result"
    }
   ],
   "source": [
    "dogs.breed"
   ]
  },
  {
   "cell_type": "code",
   "execution_count": 48,
   "id": "ceb40ed4-b976-4f39-99fb-e32d8463eab8",
   "metadata": {},
   "outputs": [],
   "source": [
    "dogs1 = Dogs()\n",
    "dogs2 = Dogs()"
   ]
  },
  {
   "cell_type": "code",
   "execution_count": 49,
   "id": "2f59c07a-b830-48ca-abbf-567a6f230f4f",
   "metadata": {},
   "outputs": [],
   "source": [
    "dogs1.name = \"Jimmy\"\n",
    "dogs2.name = \"Ronny\""
   ]
  },
  {
   "cell_type": "code",
   "execution_count": 50,
   "id": "9f522fbe-7288-49ee-b83a-11aaf0665a6e",
   "metadata": {},
   "outputs": [
    {
     "data": {
      "text/plain": [
       "'Ronny'"
      ]
     },
     "execution_count": 50,
     "metadata": {},
     "output_type": "execute_result"
    }
   ],
   "source": [
    "dogs2.name"
   ]
  },
  {
   "cell_type": "code",
   "execution_count": 16,
   "id": "3e8fcb98-b69f-42e4-9213-a65e287122f3",
   "metadata": {},
   "outputs": [],
   "source": [
    "# 5. Encapsulation\n",
    "# 6. Inheritance\n",
    "# 7. Polymorphism\n",
    "# 8. Abstraction\n",
    "\n",
    "# Encapsulation : It is the concept of hiding data and methods inside class to protect the object's interanl state from being modified directly.\n",
    "# It is achieved by making attributes protected and privated using underscore _ or double underscore __.\n",
    "\n",
    "class Customer:\n",
    "    def __init__(self, name, age):\n",
    "        self.__name = name\n",
    "        self.__age = age\n",
    "\n",
    "    def get_customer_name(self):\n",
    "        return self.__name\n",
    "    def get_customer_age(self):\n",
    "        return self.__age\n",
    "    def set_customer(self, name, age):\n",
    "        if name:\n",
    "            self.__name = name\n",
    "        elif age:\n",
    "            self.__age = age\n",
    "        else:\n",
    "            print(\"Invalid Input\")\n",
    "\n",
    "customer = Customer(\"Rock\", 23)\n",
    "        "
   ]
  },
  {
   "cell_type": "code",
   "execution_count": 17,
   "id": "5ef6d1d1-97ed-4029-af38-f34ee37ebbcc",
   "metadata": {},
   "outputs": [
    {
     "data": {
      "text/plain": [
       "'Rock'"
      ]
     },
     "execution_count": 17,
     "metadata": {},
     "output_type": "execute_result"
    }
   ],
   "source": [
    "customer.get_customer_name()"
   ]
  },
  {
   "cell_type": "code",
   "execution_count": 18,
   "id": "acb51ef9-5ff2-44b7-9245-33097918a788",
   "metadata": {},
   "outputs": [
    {
     "data": {
      "text/plain": [
       "23"
      ]
     },
     "execution_count": 18,
     "metadata": {},
     "output_type": "execute_result"
    }
   ],
   "source": [
    "customer.get_customer_age()"
   ]
  },
  {
   "cell_type": "code",
   "execution_count": 19,
   "id": "b8370c43-93f3-4772-8572-d2abfc2061ca",
   "metadata": {},
   "outputs": [],
   "source": [
    "customer.set_customer(\"James\",24)"
   ]
  },
  {
   "cell_type": "code",
   "execution_count": 20,
   "id": "abe2d65f-50ae-4de2-b9c4-6483fa25e7e5",
   "metadata": {},
   "outputs": [
    {
     "data": {
      "text/plain": [
       "'James'"
      ]
     },
     "execution_count": 20,
     "metadata": {},
     "output_type": "execute_result"
    }
   ],
   "source": [
    "customer.get_customer_name()"
   ]
  },
  {
   "cell_type": "code",
   "execution_count": 51,
   "id": "84bdc310-dae7-4a2d-9e49-80b86546e3c3",
   "metadata": {},
   "outputs": [],
   "source": [
    "# Inheritance: It allows a new class to inherit properties and behaviors (methods) of an existing class.\n",
    "# It enables code reuse and helps in creating a hierarchical structure.\n",
    "\n",
    "# eyes of fater, got the face like the mother\n",
    "\n",
    "class Animal: # Parent or base class\n",
    "    def __init__(self, name):\n",
    "        self.name = name\n",
    "    def drink(self):\n",
    "        print(f'{self.name} is drinking')\n",
    "    def eat(self):\n",
    "         print(f'{self.name} is eating')\n",
    "    def sound(self):\n",
    "        print(f'{self.name} is making sound')\n",
    "\n",
    "# child or derived class\n",
    "class Dog(Animal):\n",
    "    def __init__(self, name):\n",
    "        super().__init__(name)\n",
    "    # def bark(self):\n",
    "    #     print(f'{self.name} bark bark')\n",
    "    def routines(self):\n",
    "        self.eat()\n",
    "        self.drink()\n",
    "        # self.bark()\n",
    "    def sound(self):\n",
    "        print(f'{self.name} is barking')\n",
    "\n",
    "class Cat(Animal):\n",
    "    def __init__(self, name):\n",
    "        super().__init__(name)\n",
    "    def meow(self):\n",
    "        print(f'{self.name} meow meow')\n",
    "    def sound(self):\n",
    "        print(f'{self.name} is meowing')\n"
   ]
  },
  {
   "cell_type": "code",
   "execution_count": 52,
   "id": "70c2c160-baee-434f-8d2f-c32325773b2b",
   "metadata": {},
   "outputs": [],
   "source": [
    "dog = Dog(\"Boomerang\")\n",
    "cat = Cat(\"Snowball\")"
   ]
  },
  {
   "cell_type": "code",
   "execution_count": 39,
   "id": "3835aae5-c420-4cec-b66b-a932d48f2992",
   "metadata": {},
   "outputs": [
    {
     "name": "stdout",
     "output_type": "stream",
     "text": [
      "Boomerang is eating\n",
      "Boomerang is drinking\n",
      "Boomerang bark bark\n"
     ]
    }
   ],
   "source": [
    "dog.routines()"
   ]
  },
  {
   "cell_type": "code",
   "execution_count": 40,
   "id": "9157284e-bf51-4b89-b2ce-bb36867abdf6",
   "metadata": {},
   "outputs": [
    {
     "name": "stdout",
     "output_type": "stream",
     "text": [
      "Snowball meow meow\n"
     ]
    }
   ],
   "source": [
    "cat.meow()"
   ]
  },
  {
   "cell_type": "code",
   "execution_count": 41,
   "id": "03590628-a57d-453f-aafc-5e58289f02fc",
   "metadata": {},
   "outputs": [
    {
     "name": "stdout",
     "output_type": "stream",
     "text": [
      "Snowball is eating\n"
     ]
    }
   ],
   "source": [
    "cat.eat()"
   ]
  },
  {
   "cell_type": "code",
   "execution_count": 42,
   "id": "e426d464-3606-4f9b-8833-9145404d9003",
   "metadata": {},
   "outputs": [
    {
     "name": "stdout",
     "output_type": "stream",
     "text": [
      "Snowball is drinking\n"
     ]
    }
   ],
   "source": [
    "cat.drink()"
   ]
  },
  {
   "cell_type": "code",
   "execution_count": 43,
   "id": "bf9e7293-bc32-4051-a6d1-488fff7ae01a",
   "metadata": {},
   "outputs": [
    {
     "name": "stdout",
     "output_type": "stream",
     "text": [
      "30\n"
     ]
    }
   ],
   "source": [
    "# Polymorphism : Polymorphism allows you to use a single interface (like a method name) to represent different types of objects.\n",
    "# The same method can behave differently depending on the object calling it.\n",
    "\n",
    "# poly menas many and morphism means forms == many forms\n",
    "\n",
    "a = 10 \n",
    "b = 20 \n",
    "print(a + b)"
   ]
  },
  {
   "cell_type": "code",
   "execution_count": 44,
   "id": "bc5ed0e5-a9f4-48b1-9ca2-3526a2791bb4",
   "metadata": {},
   "outputs": [
    {
     "name": "stdout",
     "output_type": "stream",
     "text": [
      "JamesRock\n"
     ]
    }
   ],
   "source": [
    "c = 'James'\n",
    "d = 'Rock'\n",
    "print(c + d)"
   ]
  },
  {
   "cell_type": "code",
   "execution_count": 45,
   "id": "39859e19-8f9b-44fa-9c9b-c331979c7ea5",
   "metadata": {},
   "outputs": [
    {
     "name": "stdout",
     "output_type": "stream",
     "text": [
      "3\n"
     ]
    }
   ],
   "source": [
    "# len()\n",
    "list = [2, 3, 4]\n",
    "print(len(list))"
   ]
  },
  {
   "cell_type": "code",
   "execution_count": 46,
   "id": "ec732e8b-f8b4-438c-a4eb-5d2d776a6645",
   "metadata": {},
   "outputs": [
    {
     "data": {
      "text/plain": [
       "5"
      ]
     },
     "execution_count": 46,
     "metadata": {},
     "output_type": "execute_result"
    }
   ],
   "source": [
    "len(c)"
   ]
  },
  {
   "cell_type": "code",
   "execution_count": 53,
   "id": "dd70b1a8-bc74-46be-b13f-7e271c6a286d",
   "metadata": {},
   "outputs": [
    {
     "name": "stdout",
     "output_type": "stream",
     "text": [
      "Snowball is meowing\n"
     ]
    }
   ],
   "source": [
    "cat.sound()"
   ]
  },
  {
   "cell_type": "code",
   "execution_count": 54,
   "id": "f8ce0c88-a1ba-4000-b6d6-9bee5deb4cdf",
   "metadata": {},
   "outputs": [
    {
     "name": "stdout",
     "output_type": "stream",
     "text": [
      "Boomerang is barking\n"
     ]
    }
   ],
   "source": [
    "dog.sound()"
   ]
  },
  {
   "cell_type": "code",
   "execution_count": null,
   "id": "6ddf5f64-8398-4da3-ae5b-c6d6886e2a60",
   "metadata": {},
   "outputs": [],
   "source": [
    "# abstraction: Key concept of OOP that focuses on hiding the internal implementation details of an object.\n",
    "# and exposing only the necessary parts of to the user\n",
    "\n",
    "# Python provides ABC (Abstract Base Classes) module to implement abstraction.\n",
    "# abstract class: An abstract class is a class that cannot be instantiated on its own and serve as a blueprint for other classes.\n",
    "# This class contains one or more abstract method. These abstract method must implemented by subclass that inherits from the abstract class.\n",
    "# and these methods are declared using the @abstractmethod decorator, and they do not have any code in them.\n"
   ]
  },
  {
   "cell_type": "code",
   "execution_count": 67,
   "id": "c0ae9d37-4d27-4425-bc26-ffda24c633c0",
   "metadata": {},
   "outputs": [],
   "source": [
    "from abc import ABC, abstractmethod\n",
    "\n",
    "class Shape(ABC):\n",
    "    @abstractmethod\n",
    "    def area(self):\n",
    "        pass\n",
    "    @abstractmethod\n",
    "    def perimeter(self):\n",
    "        pass"
   ]
  },
  {
   "cell_type": "code",
   "execution_count": 68,
   "id": "bfca06d2-1e60-4785-b38f-68d19e4c68fd",
   "metadata": {},
   "outputs": [],
   "source": [
    "class Rectangle(Shape):\n",
    "    def __init__(self, width, height):\n",
    "        self.width = width\n",
    "        self.height = height\n",
    "    def area(self):\n",
    "        return self.width * self.height\n",
    "    def perimeter(self):\n",
    "        return 2 * (self.width + self.height)"
   ]
  },
  {
   "cell_type": "code",
   "execution_count": 69,
   "id": "1b991cd6-772d-4cfe-9741-3b875dc13cad",
   "metadata": {},
   "outputs": [],
   "source": [
    "rect = Rectangle(10, 20)"
   ]
  },
  {
   "cell_type": "code",
   "execution_count": 65,
   "id": "5e484e00-c2ff-4209-b349-4c929de1708f",
   "metadata": {},
   "outputs": [
    {
     "data": {
      "text/plain": [
       "200"
      ]
     },
     "execution_count": 65,
     "metadata": {},
     "output_type": "execute_result"
    }
   ],
   "source": [
    "rect.area()"
   ]
  },
  {
   "cell_type": "code",
   "execution_count": 66,
   "id": "f7eae148-c97e-4e39-ad39-bf97ba15de48",
   "metadata": {},
   "outputs": [
    {
     "data": {
      "text/plain": [
       "60"
      ]
     },
     "execution_count": 66,
     "metadata": {},
     "output_type": "execute_result"
    }
   ],
   "source": [
    "rect.perimeter()"
   ]
  },
  {
   "cell_type": "markdown",
   "id": "f201a23c-6785-46d4-828f-51c897c58814",
   "metadata": {},
   "source": [
    "# Python Built-in functions"
   ]
  },
  {
   "cell_type": "code",
   "execution_count": 55,
   "id": "51ab1812-f358-41c0-a21c-1586e8a877ad",
   "metadata": {},
   "outputs": [
    {
     "name": "stdout",
     "output_type": "stream",
     "text": [
      "Hello\n"
     ]
    }
   ],
   "source": [
    "#print()\n",
    "\n",
    "print('Hello')"
   ]
  },
  {
   "cell_type": "code",
   "execution_count": 56,
   "id": "6b6b1e7b-a048-4d67-a13d-14f623ec1ce5",
   "metadata": {},
   "outputs": [
    {
     "name": "stdout",
     "output_type": "stream",
     "text": [
      "1 [1, 2, 3] James 4.0\n"
     ]
    }
   ],
   "source": [
    "print(1, [1, 2,3], 'James', 4.0)"
   ]
  },
  {
   "cell_type": "code",
   "execution_count": 58,
   "id": "52756798-4e67-4445-b28f-617847cb86e5",
   "metadata": {},
   "outputs": [
    {
     "name": "stdout",
     "output_type": "stream",
     "text": [
      "Bobby \n",
      " Rock\n"
     ]
    }
   ],
   "source": [
    "print('Bobby \\n Rock')"
   ]
  },
  {
   "cell_type": "code",
   "execution_count": 62,
   "id": "de1d5a11-37d4-4c4d-99d5-d2be133929b4",
   "metadata": {},
   "outputs": [
    {
     "name": "stdout",
     "output_type": "stream",
     "text": [
      "James!!!Rock\n"
     ]
    }
   ],
   "source": [
    "print('James', end = '!!!')\n",
    "print('Rock')"
   ]
  },
  {
   "cell_type": "code",
   "execution_count": 65,
   "id": "597ade8d-1454-4cf5-9ed6-69eb661a5c42",
   "metadata": {},
   "outputs": [
    {
     "name": "stdout",
     "output_type": "stream",
     "text": [
      "James*Rock\n"
     ]
    }
   ],
   "source": [
    "print('James', 'Rock', sep='*')"
   ]
  },
  {
   "cell_type": "code",
   "execution_count": 66,
   "id": "ae2e81d6-4419-4e3f-8a87-40484a2846c7",
   "metadata": {},
   "outputs": [
    {
     "name": "stdout",
     "output_type": "stream",
     "text": [
      "This is the integer 10 \n"
     ]
    }
   ],
   "source": [
    "a = 10\n",
    "print(f\"This is the integer {a} \")"
   ]
  },
  {
   "cell_type": "code",
   "execution_count": 67,
   "id": "e4059025-c1d7-4cd8-b1a2-5949d798ecf2",
   "metadata": {},
   "outputs": [
    {
     "name": "stdout",
     "output_type": "stream",
     "text": [
      "<enumerate object at 0x0000021E62200EA0>\n"
     ]
    }
   ],
   "source": [
    "# enumerate(): \n",
    "\n",
    "fruits = ['apple', 'banana', 'cherry']\n",
    "\n",
    "fruits_index = enumerate(fruits)\n",
    "print(fruits_index)\n"
   ]
  },
  {
   "cell_type": "code",
   "execution_count": 69,
   "id": "9f42a589-5960-414a-9fec-75dec220d3ef",
   "metadata": {},
   "outputs": [
    {
     "name": "stdout",
     "output_type": "stream",
     "text": [
      "0: apple\n",
      "1: banana\n",
      "2: cherry\n"
     ]
    }
   ],
   "source": [
    "for index, item in enumerate(fruits):\n",
    "    print(f\"{index}: {item}\")"
   ]
  },
  {
   "cell_type": "code",
   "execution_count": 71,
   "id": "90117f0d-7453-4cd0-8f24-3aca408a2785",
   "metadata": {},
   "outputs": [
    {
     "name": "stdout",
     "output_type": "stream",
     "text": [
      "3: apple\n",
      "4: banana\n",
      "5: cherry\n"
     ]
    }
   ],
   "source": [
    "for index, item in enumerate(fruits, start = 3):\n",
    "    print(f\"{index}: {item}\")"
   ]
  },
  {
   "cell_type": "code",
   "execution_count": 72,
   "id": "3ec8fb2a-4a6c-4004-8c04-adaced9c443c",
   "metadata": {},
   "outputs": [
    {
     "name": "stdout",
     "output_type": "stream",
     "text": [
      "0: P\n",
      "1: y\n",
      "2: t\n",
      "3: h\n",
      "4: o\n",
      "5: n\n"
     ]
    }
   ],
   "source": [
    "string = 'Python'\n",
    "\n",
    "for index, character in enumerate(string):\n",
    "    print(f\"{index}: {character}\")"
   ]
  },
  {
   "cell_type": "code",
   "execution_count": 73,
   "id": "574e328f-6d75-47f8-a97d-d30eecddccc7",
   "metadata": {},
   "outputs": [
    {
     "name": "stdout",
     "output_type": "stream",
     "text": [
      "1: P\n",
      "2: y\n",
      "3: t\n",
      "4: h\n",
      "5: o\n",
      "6: n\n"
     ]
    }
   ],
   "source": [
    "for index, character in enumerate(string, start = 1):\n",
    "    print(f\"{index}: {character}\")"
   ]
  },
  {
   "cell_type": "code",
   "execution_count": 74,
   "id": "0a7e4301-3bb0-4815-9425-d2b382ebfc7c",
   "metadata": {},
   "outputs": [
    {
     "name": "stdout",
     "output_type": "stream",
     "text": [
      "5\n"
     ]
    }
   ],
   "source": [
    "# round()\n",
    "# round(number, ndigits)\n",
    "\n",
    "result = 4.6\n",
    "print(round(result))"
   ]
  },
  {
   "cell_type": "code",
   "execution_count": 77,
   "id": "12273830-a1ae-48dd-9771-e882d2b94fef",
   "metadata": {},
   "outputs": [
    {
     "data": {
      "text/plain": [
       "4"
      ]
     },
     "execution_count": 77,
     "metadata": {},
     "output_type": "execute_result"
    }
   ],
   "source": [
    "round(4.4)"
   ]
  },
  {
   "cell_type": "code",
   "execution_count": 78,
   "id": "b3d9f068-25f1-4020-bd27-fb25ef94c5c9",
   "metadata": {},
   "outputs": [
    {
     "data": {
      "text/plain": [
       "4.68"
      ]
     },
     "execution_count": 78,
     "metadata": {},
     "output_type": "execute_result"
    }
   ],
   "source": [
    "round(4.6789, 2 )"
   ]
  },
  {
   "cell_type": "code",
   "execution_count": 79,
   "id": "8bfbcbf6-4392-448f-ad96-a3abefa9eb57",
   "metadata": {},
   "outputs": [
    {
     "data": {
      "text/plain": [
       "123.0"
      ]
     },
     "execution_count": 79,
     "metadata": {},
     "output_type": "execute_result"
    }
   ],
   "source": [
    "round(123.456, 0)"
   ]
  },
  {
   "cell_type": "code",
   "execution_count": 80,
   "id": "3144d340-910d-4883-a435-05deb189099e",
   "metadata": {},
   "outputs": [
    {
     "data": {
      "text/plain": [
       "-4.68"
      ]
     },
     "execution_count": 80,
     "metadata": {},
     "output_type": "execute_result"
    }
   ],
   "source": [
    "round(-4.6789, 2)"
   ]
  },
  {
   "cell_type": "code",
   "execution_count": 81,
   "id": "e38bbf95-f4e9-427b-a663-26132765f23d",
   "metadata": {},
   "outputs": [
    {
     "data": {
      "text/plain": [
       "4"
      ]
     },
     "execution_count": 81,
     "metadata": {},
     "output_type": "execute_result"
    }
   ],
   "source": [
    "round(4.5)"
   ]
  },
  {
   "cell_type": "code",
   "execution_count": 82,
   "id": "f8c254f1-2c3b-42de-9085-cece66adf2b7",
   "metadata": {},
   "outputs": [
    {
     "data": {
      "text/plain": [
       "2"
      ]
     },
     "execution_count": 82,
     "metadata": {},
     "output_type": "execute_result"
    }
   ],
   "source": [
    "round(2.5)"
   ]
  },
  {
   "cell_type": "code",
   "execution_count": 83,
   "id": "a7393844-7fa8-4f2f-904c-9abbb24dc177",
   "metadata": {},
   "outputs": [
    {
     "data": {
      "text/plain": [
       "4"
      ]
     },
     "execution_count": 83,
     "metadata": {},
     "output_type": "execute_result"
    }
   ],
   "source": [
    "round(3.5)"
   ]
  },
  {
   "cell_type": "code",
   "execution_count": 84,
   "id": "1ca17e75-2036-4a21-86b8-760f9d91ad79",
   "metadata": {},
   "outputs": [
    {
     "name": "stdout",
     "output_type": "stream",
     "text": [
      "range(0, 5)\n"
     ]
    }
   ],
   "source": [
    "# range(start, stop, step): \n",
    "\n",
    "sequence = range(5)\n",
    "print(sequence)"
   ]
  },
  {
   "cell_type": "code",
   "execution_count": 89,
   "id": "b7a31d0f-1509-4178-9109-ab9eb01a11ae",
   "metadata": {},
   "outputs": [
    {
     "name": "stdout",
     "output_type": "stream",
     "text": [
      "0\n",
      "1\n",
      "2\n",
      "3\n",
      "4\n"
     ]
    }
   ],
   "source": [
    "for x in sequence:\n",
    "    print(x)"
   ]
  },
  {
   "cell_type": "code",
   "execution_count": 90,
   "id": "17a625a7-08ed-4980-8ed9-3b13a4f2ceaf",
   "metadata": {},
   "outputs": [
    {
     "name": "stdout",
     "output_type": "stream",
     "text": [
      "0\n",
      "1\n",
      "2\n",
      "3\n",
      "4\n",
      "5\n",
      "6\n",
      "7\n",
      "8\n",
      "9\n"
     ]
    }
   ],
   "source": [
    "for x in range(10):\n",
    "    print(x)"
   ]
  },
  {
   "cell_type": "code",
   "execution_count": 91,
   "id": "3dceb51b-1408-47e2-af9a-aa4a7c1243a0",
   "metadata": {},
   "outputs": [
    {
     "name": "stdout",
     "output_type": "stream",
     "text": [
      "1\n",
      "2\n",
      "3\n",
      "4\n",
      "5\n",
      "6\n",
      "7\n",
      "8\n",
      "9\n",
      "10\n",
      "11\n",
      "12\n",
      "13\n",
      "14\n"
     ]
    }
   ],
   "source": [
    "for i in range(1,15):\n",
    "    print(i)"
   ]
  },
  {
   "cell_type": "code",
   "execution_count": 92,
   "id": "b4ee3383-22f6-42f1-a47c-21381caf130d",
   "metadata": {},
   "outputs": [
    {
     "name": "stdout",
     "output_type": "stream",
     "text": [
      "0\n",
      "2\n",
      "4\n",
      "6\n",
      "8\n"
     ]
    }
   ],
   "source": [
    "for i in range(0, 10, 2):\n",
    "    print(i)"
   ]
  },
  {
   "cell_type": "code",
   "execution_count": 94,
   "id": "4f4c8d59-44c9-4bbd-9c0c-23ed73a76d07",
   "metadata": {},
   "outputs": [
    {
     "name": "stdout",
     "output_type": "stream",
     "text": [
      "15\n",
      "14\n",
      "13\n",
      "12\n",
      "11\n",
      "10\n",
      "9\n",
      "8\n",
      "7\n",
      "6\n",
      "5\n",
      "4\n",
      "3\n",
      "2\n",
      "1\n"
     ]
    }
   ],
   "source": [
    "for i in range(15,0, -1):\n",
    "    print(i)"
   ]
  },
  {
   "cell_type": "code",
   "execution_count": 2,
   "id": "bdd81b4d-d373-4323-8da7-fc0f6d217822",
   "metadata": {},
   "outputs": [
    {
     "name": "stdout",
     "output_type": "stream",
     "text": [
      "[2, 3, 4, 5]\n"
     ]
    }
   ],
   "source": [
    "# slice(start, stop, step)\n",
    "# list[start, stop, step]\n",
    "\n",
    "my_list = [0,1,2,3,4,5,6,7]\n",
    "\n",
    "s = slice(2, 6)\n",
    "\n",
    "print(my_list[s])"
   ]
  },
  {
   "cell_type": "code",
   "execution_count": 3,
   "id": "516efbd0-0949-446a-bca9-0777b09c7c8e",
   "metadata": {},
   "outputs": [
    {
     "name": "stdout",
     "output_type": "stream",
     "text": [
      "[1, 3, 5]\n"
     ]
    }
   ],
   "source": [
    " k = slice(1, 7, 2)\n",
    "print(my_list[k])"
   ]
  },
  {
   "cell_type": "code",
   "execution_count": 4,
   "id": "48c0c399-7a6c-40c4-a551-54e3b594ecf6",
   "metadata": {},
   "outputs": [
    {
     "name": "stdout",
     "output_type": "stream",
     "text": [
      "world\n"
     ]
    }
   ],
   "source": [
    "my_string = 'Hello, world'\n",
    "o = slice(7, 12)\n",
    "\n",
    "print(my_string[o])"
   ]
  },
  {
   "cell_type": "code",
   "execution_count": 5,
   "id": "298728e5-df7f-4814-8150-37753f646a32",
   "metadata": {},
   "outputs": [
    {
     "name": "stdout",
     "output_type": "stream",
     "text": [
      "[4, 5, 6]\n"
     ]
    }
   ],
   "source": [
    "q = slice(-4, -1)\n",
    "print(my_list[q])"
   ]
  },
  {
   "cell_type": "code",
   "execution_count": 8,
   "id": "7037ac31-ffb1-4193-80ef-35351ab5b9bd",
   "metadata": {},
   "outputs": [
    {
     "name": "stdout",
     "output_type": "stream",
     "text": [
      "[0, 1, 2, 3, 4]\n"
     ]
    }
   ],
   "source": [
    "# list[:5]\n",
    "\n",
    "t = slice(None, 5) # [:5]\n",
    "print(my_list[t])"
   ]
  },
  {
   "cell_type": "code",
   "execution_count": 1,
   "id": "01b84bd6-32a2-4598-bb83-83865b6290bc",
   "metadata": {},
   "outputs": [],
   "source": [
    "# globals() function: It returns Python dictionary representing the current global symbol table\n",
    "# symbol table:  It is data structure maintained by the interpreter \n",
    "# and this symbol table stores information about var, functions, and object in your current code context."
   ]
  },
  {
   "cell_type": "code",
   "execution_count": 2,
   "id": "88adfae8-afb6-4676-8855-4f42f70205d2",
   "metadata": {},
   "outputs": [],
   "source": [
    "x = 10\n",
    "y = 20\n",
    "\n"
   ]
  },
  {
   "cell_type": "code",
   "execution_count": 3,
   "id": "554fa260-a558-461d-829b-f0f4e91f018f",
   "metadata": {},
   "outputs": [],
   "source": [
    "global_vars = globals()"
   ]
  },
  {
   "cell_type": "code",
   "execution_count": 4,
   "id": "5c1e8768-767a-4d13-9970-be4b64cbab9d",
   "metadata": {},
   "outputs": [
    {
     "name": "stdout",
     "output_type": "stream",
     "text": [
      "{'__name__': '__main__', '__doc__': 'Automatically created module for IPython interactive environment', '__package__': None, '__loader__': None, '__spec__': None, '__builtin__': <module 'builtins' (built-in)>, '__builtins__': <module 'builtins' (built-in)>, '_ih': ['', '# globals() function: It returns Python dictionary representing the current global symbol table\\n# symbol table:  It is data structure maintained by the interpreter \\n# and this symbol table stores information about var, functions, and object in your current code context.', 'x = 10\\ny = 20', 'global_vars = globals()', 'print(global_vars)'], '_oh': {}, '_dh': [WindowsPath('C:/Users/saura/OneDrive/Desktop/Python')], 'In': ['', '# globals() function: It returns Python dictionary representing the current global symbol table\\n# symbol table:  It is data structure maintained by the interpreter \\n# and this symbol table stores information about var, functions, and object in your current code context.', 'x = 10\\ny = 20', 'global_vars = globals()', 'print(global_vars)'], 'Out': {}, 'get_ipython': <bound method InteractiveShell.get_ipython of <ipykernel.zmqshell.ZMQInteractiveShell object at 0x0000017B02939400>>, 'exit': <IPython.core.autocall.ZMQExitAutocall object at 0x0000017B026C3830>, 'quit': <IPython.core.autocall.ZMQExitAutocall object at 0x0000017B026C3830>, 'open': <function open at 0x0000017B7FF15DA0>, '_': '', '__': '', '___': '', '__session__': 'C:\\\\Users\\\\saura\\\\OneDrive\\\\Desktop\\\\Python\\\\Python tutorials part-2.ipynb', '_i': 'global_vars = globals()', '_ii': 'x = 10\\ny = 20', '_iii': '# globals() function: It returns Python dictionary representing the current global symbol table\\n# symbol table:  It is data structure maintained by the interpreter \\n# and this symbol table stores information about var, functions, and object in your current code context.', '_i1': '# globals() function: It returns Python dictionary representing the current global symbol table\\n# symbol table:  It is data structure maintained by the interpreter \\n# and this symbol table stores information about var, functions, and object in your current code context.', '_i2': 'x = 10\\ny = 20', 'x': 10, 'y': 20, '_i3': 'global_vars = globals()', 'global_vars': {...}, '_i4': 'print(global_vars)'}\n"
     ]
    }
   ],
   "source": [
    "print(global_vars)"
   ]
  },
  {
   "cell_type": "code",
   "execution_count": 7,
   "id": "af24ea61-6847-4f8b-a31f-238d9253305e",
   "metadata": {},
   "outputs": [
    {
     "name": "stdout",
     "output_type": "stream",
     "text": [
      "10\n"
     ]
    }
   ],
   "source": [
    "print(global_vars['x'])"
   ]
  },
  {
   "cell_type": "code",
   "execution_count": 8,
   "id": "d90b63c4-0b76-4a27-b4ca-a335f0e4a50c",
   "metadata": {},
   "outputs": [
    {
     "name": "stdout",
     "output_type": "stream",
     "text": [
      "50\n"
     ]
    }
   ],
   "source": [
    "globals()['x'] = 50\n",
    "\n",
    "print(x)"
   ]
  },
  {
   "cell_type": "code",
   "execution_count": 10,
   "id": "d21561c9-e46c-4020-8c98-9dd9dc45c735",
   "metadata": {},
   "outputs": [
    {
     "name": "stdout",
     "output_type": "stream",
     "text": [
      "{'__name__': '__main__', '__doc__': 'Automatically created module for IPython interactive environment', '__package__': None, '__loader__': None, '__spec__': None, '__builtin__': <module 'builtins' (built-in)>, '__builtins__': <module 'builtins' (built-in)>, '_ih': ['', '# globals() function: It returns Python dictionary representing the current global symbol table\\n# symbol table:  It is data structure maintained by the interpreter \\n# and this symbol table stores information about var, functions, and object in your current code context.', 'x = 10\\ny = 20', 'global_vars = globals()', 'print(global_vars)', 'print(global_vars[x])', \"print(global_vars['x'])\", \"print(global_vars['x'])\", \"globals()['x'] = 50\\n\\nprint(x)\", '# locals() : all var, func, object of the local space\\n\\ndef my_func():\\n    e = 10\\n    y = 20\\n    print(locals())\\n\\nmy_func()', '# locals() : all var, func, object of the local space\\n\\nprint(locals())\\ndef my_func():\\n    e = 10\\n    y = 20\\n    print(locals())\\n\\nmy_func()'], '_oh': {}, '_dh': [WindowsPath('C:/Users/saura/OneDrive/Desktop/Python')], 'In': ['', '# globals() function: It returns Python dictionary representing the current global symbol table\\n# symbol table:  It is data structure maintained by the interpreter \\n# and this symbol table stores information about var, functions, and object in your current code context.', 'x = 10\\ny = 20', 'global_vars = globals()', 'print(global_vars)', 'print(global_vars[x])', \"print(global_vars['x'])\", \"print(global_vars['x'])\", \"globals()['x'] = 50\\n\\nprint(x)\", '# locals() : all var, func, object of the local space\\n\\ndef my_func():\\n    e = 10\\n    y = 20\\n    print(locals())\\n\\nmy_func()', '# locals() : all var, func, object of the local space\\n\\nprint(locals())\\ndef my_func():\\n    e = 10\\n    y = 20\\n    print(locals())\\n\\nmy_func()'], 'Out': {}, 'get_ipython': <bound method InteractiveShell.get_ipython of <ipykernel.zmqshell.ZMQInteractiveShell object at 0x0000017B02939400>>, 'exit': <IPython.core.autocall.ZMQExitAutocall object at 0x0000017B026C3830>, 'quit': <IPython.core.autocall.ZMQExitAutocall object at 0x0000017B026C3830>, 'open': <function open at 0x0000017B7FF15DA0>, '_': '', '__': '', '___': '', '__session__': 'C:\\\\Users\\\\saura\\\\OneDrive\\\\Desktop\\\\Python\\\\Python tutorials part-2.ipynb', '_i': '# locals() : all var, func, object of the local space\\n\\ndef my_func():\\n    e = 10\\n    y = 20\\n    print(locals())\\n\\nmy_func()', '_ii': \"globals()['x'] = 50\\n\\nprint(x)\", '_iii': \"print(global_vars['x'])\", '_i1': '# globals() function: It returns Python dictionary representing the current global symbol table\\n# symbol table:  It is data structure maintained by the interpreter \\n# and this symbol table stores information about var, functions, and object in your current code context.', '_i2': 'x = 10\\ny = 20', 'x': 50, 'y': 20, '_i3': 'global_vars = globals()', 'global_vars': {...}, '_i4': 'print(global_vars)', '_i5': 'print(global_vars[x])', '_i6': \"print(global_vars['x'])\", '_i7': \"print(global_vars['x'])\", '_i8': \"globals()['x'] = 50\\n\\nprint(x)\", '_i9': '# locals() : all var, func, object of the local space\\n\\ndef my_func():\\n    e = 10\\n    y = 20\\n    print(locals())\\n\\nmy_func()', 'my_func': <function my_func at 0x0000017B02A01800>, '_i10': '# locals() : all var, func, object of the local space\\n\\nprint(locals())\\ndef my_func():\\n    e = 10\\n    y = 20\\n    print(locals())\\n\\nmy_func()'}\n",
      "{'e': 10, 'y': 20}\n"
     ]
    }
   ],
   "source": [
    "# locals() : all var, func, object of the local space\n",
    "\n",
    "print(locals())\n",
    "def my_func():\n",
    "    e = 10\n",
    "    y = 20\n",
    "    print(locals())\n",
    "\n",
    "my_func()"
   ]
  },
  {
   "cell_type": "code",
   "execution_count": 12,
   "id": "8a83effe-b4d8-4c94-be8a-3ff2d01da0e0",
   "metadata": {},
   "outputs": [
    {
     "name": "stdout",
     "output_type": "stream",
     "text": [
      "False\n"
     ]
    }
   ],
   "source": [
    "# all() : The all() function in Python returns True if all elements of an iterable are true or if the iterable is empty.\n",
    "# If any element in the iterable is False, then all() returns False\n",
    "# The syntax is all(iterable)\n",
    "\n",
    "my_list = [True, True, False]\n",
    "\n",
    "print(all(my_list))"
   ]
  },
  {
   "cell_type": "code",
   "execution_count": 13,
   "id": "ba440715-9119-4052-86d3-78a5ee89a877",
   "metadata": {},
   "outputs": [
    {
     "name": "stdout",
     "output_type": "stream",
     "text": [
      "True\n"
     ]
    }
   ],
   "source": [
    "empty_list = []\n",
    "\n",
    "print(all(empty_list))"
   ]
  },
  {
   "cell_type": "code",
   "execution_count": 15,
   "id": "1f901e64-de27-4f03-b0b5-6d48792e10eb",
   "metadata": {},
   "outputs": [
    {
     "name": "stdout",
     "output_type": "stream",
     "text": [
      "False\n"
     ]
    }
   ],
   "source": [
    "# Truthy and falsy\n",
    "\n",
    "integer_list = [1,2,3,4, 0]\n",
    "\n",
    "print(all(integer_list))\n"
   ]
  },
  {
   "cell_type": "code",
   "execution_count": 16,
   "id": "26aeeb06-619c-4bb9-b37e-836e878352e5",
   "metadata": {},
   "outputs": [
    {
     "name": "stdout",
     "output_type": "stream",
     "text": [
      "True\n"
     ]
    }
   ],
   "source": [
    "# all() with strings\n",
    "\n",
    "strings = ['Hello', 'World', 'Python']\n",
    "print(all(strings))"
   ]
  },
  {
   "cell_type": "code",
   "execution_count": 17,
   "id": "0c6ee985-45fa-4c7e-9cf5-ceed26bbae1e",
   "metadata": {},
   "outputs": [
    {
     "name": "stdout",
     "output_type": "stream",
     "text": [
      "False\n"
     ]
    }
   ],
   "source": [
    "mixed = [True, 1, \"Python\", []]\n",
    "print(all(mixed))"
   ]
  },
  {
   "cell_type": "code",
   "execution_count": 18,
   "id": "2441db8e-d370-4def-af6e-04568ddb3266",
   "metadata": {},
   "outputs": [],
   "source": [
    "# any() : The any() function in Python returns True if any elements of an iterable are true .\n",
    "# If all element in the iterable is False or if the iterable is empty then any() returns False\n",
    "# The syntax is any(iterable)"
   ]
  },
  {
   "cell_type": "code",
   "execution_count": 19,
   "id": "9cbee347-551e-4974-a215-19e6bec9c2bc",
   "metadata": {},
   "outputs": [
    {
     "name": "stdout",
     "output_type": "stream",
     "text": [
      "True\n"
     ]
    }
   ],
   "source": [
    "numbers = [0,0,0,3]\n",
    "print(any(numbers))"
   ]
  },
  {
   "cell_type": "code",
   "execution_count": 20,
   "id": "6f3c6c4d-5c2f-410d-8c4c-bd367dc431b7",
   "metadata": {},
   "outputs": [
    {
     "name": "stdout",
     "output_type": "stream",
     "text": [
      "False\n"
     ]
    }
   ],
   "source": [
    "numbers = [0,0,0,0]\n",
    "print(any(numbers))"
   ]
  },
  {
   "cell_type": "code",
   "execution_count": 21,
   "id": "58604631-cf27-4a9d-925d-5c43e8325c66",
   "metadata": {},
   "outputs": [
    {
     "name": "stdout",
     "output_type": "stream",
     "text": [
      "False\n"
     ]
    }
   ],
   "source": [
    "numbers = []\n",
    "print(any(numbers))"
   ]
  },
  {
   "cell_type": "code",
   "execution_count": 22,
   "id": "6be5a7f7-42b1-41e2-9ba6-1b313fb9ff30",
   "metadata": {},
   "outputs": [],
   "source": [
    "# isinstance(): It is used to check if an object is an instance or subclass of a specified type.\n",
    "# It returns True if the object is an instnace of the given type, and returns False otherwise.\n",
    "\n",
    "# isinstance(object, type)\n",
    "\n"
   ]
  },
  {
   "cell_type": "code",
   "execution_count": 24,
   "id": "304655fb-5170-484c-a98c-2eb471cedaf6",
   "metadata": {},
   "outputs": [
    {
     "name": "stdout",
     "output_type": "stream",
     "text": [
      "False\n"
     ]
    }
   ],
   "source": [
    "x = 10 \n",
    "print(isinstance(x, int))"
   ]
  },
  {
   "cell_type": "code",
   "execution_count": 31,
   "id": "cbdf5953-5cae-446d-8c93-4d1ec03f6884",
   "metadata": {},
   "outputs": [
    {
     "name": "stdout",
     "output_type": "stream",
     "text": [
      "True\n"
     ]
    }
   ],
   "source": [
    "y = \"Hello\"\n",
    "z = 20\n",
    "print(isinstance(z, (str,int) ))"
   ]
  },
  {
   "cell_type": "code",
   "execution_count": 39,
   "id": "8b6667f9-56c4-47dc-82b9-154072da1e2f",
   "metadata": {},
   "outputs": [
    {
     "name": "stdout",
     "output_type": "stream",
     "text": [
      "False\n"
     ]
    }
   ],
   "source": [
    "u = [1,2,3]\n",
    "print(isinstance(u, list))"
   ]
  },
  {
   "cell_type": "code",
   "execution_count": 40,
   "id": "17b575a7-87e9-4b1a-a588-f26a2521bfd2",
   "metadata": {},
   "outputs": [],
   "source": [
    "class Animal:\n",
    "    pass\n",
    "\n",
    "class Dog(Animal):\n",
    "    pass\n",
    "\n",
    "dog = Dog()"
   ]
  },
  {
   "cell_type": "code",
   "execution_count": 41,
   "id": "19d4521a-7181-4462-8449-1276fbb45a2e",
   "metadata": {},
   "outputs": [
    {
     "name": "stdout",
     "output_type": "stream",
     "text": [
      "True\n"
     ]
    }
   ],
   "source": [
    "print(isinstance(dog, Dog))"
   ]
  },
  {
   "cell_type": "code",
   "execution_count": 42,
   "id": "d79a1356-d250-488b-a795-1f67af9c1fd5",
   "metadata": {},
   "outputs": [
    {
     "name": "stdout",
     "output_type": "stream",
     "text": [
      "True\n"
     ]
    }
   ],
   "source": [
    "print(isinstance(dog, Animal))"
   ]
  },
  {
   "cell_type": "code",
   "execution_count": null,
   "id": "cd8c77f4-672e-4332-9fa3-68d447bcdb48",
   "metadata": {},
   "outputs": [],
   "source": [
    "# type() and isinstance()"
   ]
  },
  {
   "cell_type": "code",
   "execution_count": null,
   "id": "5d46bf9d-61c8-43a3-9223-57d45e8caa12",
   "metadata": {},
   "outputs": [],
   "source": [
    "# callable(): To check if object appears to be callable\n",
    "# It returns True if the object can be called and false otherwise\n",
    "# callable(object)"
   ]
  },
  {
   "cell_type": "code",
   "execution_count": 44,
   "id": "593c6175-c264-4ba8-8a04-a5b67a2a2482",
   "metadata": {},
   "outputs": [
    {
     "name": "stdout",
     "output_type": "stream",
     "text": [
      "True\n"
     ]
    }
   ],
   "source": [
    "def my_function():\n",
    "    pass\n",
    "\n",
    "print(callable(my_function))"
   ]
  },
  {
   "cell_type": "code",
   "execution_count": 45,
   "id": "8c9239f4-de02-46d4-b132-8b29c50d0e70",
   "metadata": {},
   "outputs": [
    {
     "name": "stdout",
     "output_type": "stream",
     "text": [
      "False\n"
     ]
    }
   ],
   "source": [
    "x = 10\n",
    "print(callable(x))"
   ]
  },
  {
   "cell_type": "code",
   "execution_count": 58,
   "id": "8912a1ad-802a-4da6-aa37-52eefc5ec3f1",
   "metadata": {},
   "outputs": [
    {
     "name": "stdout",
     "output_type": "stream",
     "text": [
      "True\n"
     ]
    }
   ],
   "source": [
    "class Myclass:\n",
    "    pass\n",
    "    # def __call__(self):\n",
    "    #     print(\"Instance called\")\n",
    "    \n",
    "\n",
    "print(callable(Myclass))"
   ]
  },
  {
   "cell_type": "code",
   "execution_count": 51,
   "id": "f9aa7bab-bce4-4e7a-9333-a39b1cedb715",
   "metadata": {},
   "outputs": [
    {
     "name": "stdout",
     "output_type": "stream",
     "text": [
      "True\n"
     ]
    }
   ],
   "source": [
    "myclass = Myclass()\n",
    "print(callable(myclass))"
   ]
  },
  {
   "cell_type": "code",
   "execution_count": 60,
   "id": "042802c8-aee0-48f9-8264-80d7bce3e463",
   "metadata": {},
   "outputs": [],
   "source": [
    "my_instance = Myclass()"
   ]
  },
  {
   "cell_type": "code",
   "execution_count": 61,
   "id": "9d689eb4-031b-42af-a40b-4439f8a550d7",
   "metadata": {},
   "outputs": [
    {
     "name": "stdout",
     "output_type": "stream",
     "text": [
      "False\n"
     ]
    }
   ],
   "source": [
    "print(callable(my_instance))"
   ]
  },
  {
   "cell_type": "code",
   "execution_count": 62,
   "id": "83db2a89-6d71-4606-9666-5cf96625b38d",
   "metadata": {},
   "outputs": [],
   "source": [
    "def safe_call(obj):\n",
    "    if callable(obj):\n",
    "        obj()\n",
    "    else:\n",
    "        print(\"Object is not callable\")"
   ]
  },
  {
   "cell_type": "code",
   "execution_count": 63,
   "id": "d049975b-c1ad-4e97-9e92-f2020d2aed84",
   "metadata": {},
   "outputs": [],
   "source": [
    "safe_call(Myclass)"
   ]
  },
  {
   "cell_type": "code",
   "execution_count": 64,
   "id": "7d7d60a9-7d56-4e93-9137-02e87022a055",
   "metadata": {},
   "outputs": [
    {
     "name": "stdout",
     "output_type": "stream",
     "text": [
      "Object is not callable\n"
     ]
    }
   ],
   "source": [
    "safe_call(10)"
   ]
  },
  {
   "cell_type": "code",
   "execution_count": null,
   "id": "188d08a6-d395-4aeb-97a1-580ad8498cc4",
   "metadata": {},
   "outputs": [],
   "source": [
    "# filter(): It is used to construct an iterator from elements of an iterable for which a function returns True.\n",
    "# It allows you to filter out elements from a sequence based on a condition.\n",
    "\n",
    "# filter(function, iterable)"
   ]
  },
  {
   "cell_type": "code",
   "execution_count": 68,
   "id": "e4f979f3-ba93-4fa6-a773-bb26b45609ba",
   "metadata": {},
   "outputs": [
    {
     "name": "stdout",
     "output_type": "stream",
     "text": [
      "[2, 4, 6, 8]\n"
     ]
    }
   ],
   "source": [
    "def is_even(num):\n",
    "    return num % 2 == 0\n",
    "\n",
    "numbers = [1,2,3,4,5,6,7,8]\n",
    "\n",
    "result = filter(is_even, numbers)\n",
    "print(list(result))\n",
    "\n"
   ]
  },
  {
   "cell_type": "code",
   "execution_count": 69,
   "id": "20711391-9ee9-4c09-98ea-42094207f516",
   "metadata": {},
   "outputs": [
    {
     "name": "stdout",
     "output_type": "stream",
     "text": [
      "[2, 4, 6, 8]\n"
     ]
    }
   ],
   "source": [
    "# lambda \n",
    "\n",
    "result = filter(lambda x : x % 2 == 0, numbers)\n",
    "print(list(result))"
   ]
  },
  {
   "cell_type": "code",
   "execution_count": 70,
   "id": "19c0b774-5ea9-445a-a864-68c0eac00d33",
   "metadata": {},
   "outputs": [
    {
     "name": "stdout",
     "output_type": "stream",
     "text": [
      "['Python', 'Code', 'Filter']\n"
     ]
    }
   ],
   "source": [
    "strings = [\"Python\",\"\",\"Code\", \"Filter\", None]\n",
    "\n",
    "str_result = filter(None, strings)\n",
    "print(list(str_result))"
   ]
  },
  {
   "cell_type": "code",
   "execution_count": null,
   "id": "2ad512df-7700-455c-aec9-c50d29e8e3f8",
   "metadata": {},
   "outputs": [],
   "source": [
    "# map(): It applies a given function to all elements in an iterable and returns an iterator with the results.\n",
    "# It transform or process each element of an iterable in a functional programming style.\n",
    "\n",
    "# map(function, iteralbe, ...)"
   ]
  },
  {
   "cell_type": "code",
   "execution_count": 75,
   "id": "0955da17-9ae8-4716-bb71-4d6038803d14",
   "metadata": {},
   "outputs": [
    {
     "name": "stdout",
     "output_type": "stream",
     "text": [
      "<map object at 0x0000017B011E13F0>\n"
     ]
    }
   ],
   "source": [
    "def square(x,y):\n",
    "    return x * x\n",
    "\n",
    "num = [1,2,3,4]\n",
    "\n",
    "result = map(square, num)\n",
    "print(result)"
   ]
  },
  {
   "cell_type": "code",
   "execution_count": 72,
   "id": "f8b92f2b-f35c-43dd-96aa-4195f29807f8",
   "metadata": {},
   "outputs": [
    {
     "name": "stdout",
     "output_type": "stream",
     "text": [
      "[1, 4, 9, 16]\n"
     ]
    }
   ],
   "source": [
    "print(list(result))"
   ]
  },
  {
   "cell_type": "code",
   "execution_count": 73,
   "id": "65858928-2547-4329-81ef-145eb9ff7c30",
   "metadata": {},
   "outputs": [
    {
     "name": "stdout",
     "output_type": "stream",
     "text": [
      "[1, 4, 9, 16]\n"
     ]
    }
   ],
   "source": [
    "result = map(lambda x: x * x, num)\n",
    "print(list(result))"
   ]
  },
  {
   "cell_type": "code",
   "execution_count": 78,
   "id": "976540a7-b4e4-49e9-8649-9c4e59c9f520",
   "metadata": {},
   "outputs": [
    {
     "name": "stdout",
     "output_type": "stream",
     "text": [
      "[6, 8, 10, 12]\n"
     ]
    }
   ],
   "source": [
    "num2 = [5,6,7,8]\n",
    "\n",
    "result2 = map(lambda x,y: x + y, num, num2)\n",
    "print(list(result2))\n"
   ]
  },
  {
   "cell_type": "code",
   "execution_count": null,
   "id": "58c35ecd-a20e-4664-8350-a21aeeb29a4b",
   "metadata": {},
   "outputs": [],
   "source": [
    "# sorted(): Returns a new sorted list from the items of any iterable (list, tuple, set, dict).\n",
    "# sorted() returns new list without modifying the ogriginal iterable\n",
    "\n",
    "# sorted(iterable, key, reverse)"
   ]
  },
  {
   "cell_type": "code",
   "execution_count": 79,
   "id": "092b092a-300f-4f98-bbff-bff71d8acaf9",
   "metadata": {},
   "outputs": [
    {
     "name": "stdout",
     "output_type": "stream",
     "text": [
      "[0, 1, 2, 3, 5, 8]\n"
     ]
    }
   ],
   "source": [
    "numbers = [3,1,8,2,0,5]\n",
    "sorted_numbers = sorted(numbers)\n",
    "print(sorted_numbers)"
   ]
  },
  {
   "cell_type": "code",
   "execution_count": 80,
   "id": "7aadbf29-ba50-4a88-9840-02a321293f61",
   "metadata": {},
   "outputs": [
    {
     "name": "stdout",
     "output_type": "stream",
     "text": [
      "[8, 5, 3, 2, 1, 0]\n"
     ]
    }
   ],
   "source": [
    "sorted_numbers = sorted(numbers, reverse = True)\n",
    "print(sorted_numbers)"
   ]
  },
  {
   "cell_type": "code",
   "execution_count": 82,
   "id": "44761a1d-4c05-4533-81c0-da08b339f9e5",
   "metadata": {},
   "outputs": [
    {
     "name": "stdout",
     "output_type": "stream",
     "text": [
      "['h', 'n', 'o', 'p', 't', 'y']\n"
     ]
    }
   ],
   "source": [
    "word = \"python\"\n",
    "sorted_word = sorted(word)\n",
    "print(sorted_word)"
   ]
  },
  {
   "cell_type": "code",
   "execution_count": 83,
   "id": "8815b876-c0e2-4072-8e0b-592d4074c9ec",
   "metadata": {},
   "outputs": [
    {
     "name": "stdout",
     "output_type": "stream",
     "text": [
      "['kiwi', 'apple', 'grape', 'banana']\n"
     ]
    }
   ],
   "source": [
    "words = [\"apple\", \"banana\", \"kiwi\", \"grape\"]\n",
    "\n",
    "sorted_by_length = sorted(words, key=len)\n",
    "print(sorted_by_length)"
   ]
  },
  {
   "cell_type": "code",
   "execution_count": 85,
   "id": "62c21e81-b4d0-4dc7-8c72-4741f45c3815",
   "metadata": {},
   "outputs": [
    {
     "name": "stdout",
     "output_type": "stream",
     "text": [
      "[(5, 7), (1, 2), (3, 1), (2, 0)]\n"
     ]
    }
   ],
   "source": [
    "pairs = [(1,2),(3,1),(5,7),(2,0)]\n",
    "sorted_pairs = sorted(pairs, key= lambda x: x[1] , reverse = True)\n",
    "print(sorted_pairs)"
   ]
  },
  {
   "cell_type": "code",
   "execution_count": null,
   "id": "a65ef76b-3104-4460-9778-67039f821737",
   "metadata": {},
   "outputs": [],
   "source": [
    "# eval() : It takes a string as input and evalutes it as a Python expression. It executes the expression and returns the result.\n",
    "# useful for dynamic execution of Python code, but it also requires caution due to security risks if the input isn't trusted.\n",
    "\n",
    "# eval(expression)"
   ]
  },
  {
   "cell_type": "code",
   "execution_count": 86,
   "id": "53335d8d-b162-40f7-9216-6148cd761013",
   "metadata": {},
   "outputs": [
    {
     "name": "stdout",
     "output_type": "stream",
     "text": [
      "15\n"
     ]
    }
   ],
   "source": [
    "x = 10 \n",
    "result = eval('x + 5') # print(x + 5)\n",
    "print(result)"
   ]
  },
  {
   "cell_type": "code",
   "execution_count": 87,
   "id": "9b04063d-89d4-4bde-8593-77708fc1c6c1",
   "metadata": {},
   "outputs": [
    {
     "name": "stdout",
     "output_type": "stream",
     "text": [
      "9\n"
     ]
    }
   ],
   "source": [
    "expression = '3 * (2 +1)'\n",
    "result_expk = eval(expression)\n",
    "print(result_expk)\n"
   ]
  },
  {
   "cell_type": "code",
   "execution_count": 88,
   "id": "b9442ad0-f3f0-4d7e-a9ff-bb67837b5031",
   "metadata": {},
   "outputs": [
    {
     "name": "stdout",
     "output_type": "stream",
     "text": [
      "7\n"
     ]
    }
   ],
   "source": [
    "def add(x,y):\n",
    "    return x + y\n",
    "\n",
    "exp = 'add(3,4)'\n",
    "res = eval(exp)\n",
    "print(res)"
   ]
  },
  {
   "cell_type": "code",
   "execution_count": null,
   "id": "a22985e2-5f50-4878-826f-b2855aa13d55",
   "metadata": {},
   "outputs": [
    {
     "name": "stdin",
     "output_type": "stream",
     "text": [
      "Enter the math exp 2 * 3\n"
     ]
    },
    {
     "name": "stdout",
     "output_type": "stream",
     "text": [
      "6\n"
     ]
    },
    {
     "name": "stdin",
     "output_type": "stream",
     "text": [
      "Enter the math exp 4 -5\n"
     ]
    },
    {
     "name": "stdout",
     "output_type": "stream",
     "text": [
      "-1\n"
     ]
    },
    {
     "name": "stdin",
     "output_type": "stream",
     "text": [
      "Enter the math exp 4 / 2\n"
     ]
    },
    {
     "name": "stdout",
     "output_type": "stream",
     "text": [
      "2.0\n"
     ]
    },
    {
     "name": "stdin",
     "output_type": "stream",
     "text": [
      "Enter the math exp exit()\n"
     ]
    },
    {
     "name": "stdout",
     "output_type": "stream",
     "text": [
      "None\n"
     ]
    }
   ],
   "source": [
    "while True:\n",
    "    user_input = input(\"Enter the math exp\")\n",
    "    print(eval(user_input))"
   ]
  },
  {
   "cell_type": "code",
   "execution_count": null,
   "id": "15d1c743-0ca7-46fd-8086-cd11096b579b",
   "metadata": {},
   "outputs": [],
   "source": [
    "# exec() : It can be block of code in form of string or compiled object.\n",
    "# exec() : exec() executes a sequence of Python statements and does not return a value.\n",
    "\n",
    "# exec(object)"
   ]
  },
  {
   "cell_type": "code",
   "execution_count": 1,
   "id": "da5bf981-f465-4ae2-8b90-e23ea7163245",
   "metadata": {},
   "outputs": [
    {
     "name": "stdout",
     "output_type": "stream",
     "text": [
      "50\n"
     ]
    }
   ],
   "source": [
    "x = 20\n",
    "y = 30\n",
    "\n",
    "print(x+y)"
   ]
  },
  {
   "cell_type": "code",
   "execution_count": 3,
   "id": "258ea4b0-fe75-42cd-b37c-cd0d19886e8b",
   "metadata": {},
   "outputs": [
    {
     "name": "stdout",
     "output_type": "stream",
     "text": [
      "50\n"
     ]
    }
   ],
   "source": [
    "code = \"\"\"\n",
    "x = 20\n",
    "y = 30\n",
    "print(x+y)\"\"\"\n",
    "\n",
    "result = exec(code)\n"
   ]
  },
  {
   "cell_type": "code",
   "execution_count": null,
   "id": "24c694c9-e41e-40f5-969c-23222fab87f4",
   "metadata": {},
   "outputs": [],
   "source": [
    "# zip(): Takes multiple iterables (list, tuple, strings) and combine them into tuples.\n",
    "# The result is an iterator of tuples.\n",
    "\n",
    "# zip(iterator, ..)\n"
   ]
  },
  {
   "cell_type": "code",
   "execution_count": 4,
   "id": "264be503-575f-41d8-89b6-ac130d2b8d8e",
   "metadata": {},
   "outputs": [
    {
     "name": "stdout",
     "output_type": "stream",
     "text": [
      "[(1, 'a'), (2, 'b'), (3, 'c')]\n"
     ]
    }
   ],
   "source": [
    "list1 = [1, 2, 3]\n",
    "list2 = ['a', 'b', 'c']\n",
    "\n",
    "zipped = zip(list1, list2)\n",
    "print(list(zipped))\n"
   ]
  },
  {
   "cell_type": "code",
   "execution_count": 5,
   "id": "70d722b8-8d95-4315-b298-5553dad2eaee",
   "metadata": {},
   "outputs": [
    {
     "name": "stdout",
     "output_type": "stream",
     "text": [
      "[(1, 'a'), (2, 'b')]\n"
     ]
    }
   ],
   "source": [
    "list1 = [1, 2, 3]\n",
    "list2 = ['a', 'b']\n",
    "\n",
    "zipped = zip(list1, list2)\n",
    "print(list(zipped))\n"
   ]
  },
  {
   "cell_type": "code",
   "execution_count": null,
   "id": "3bda71ab-4f38-4197-a77d-e5a72044d293",
   "metadata": {},
   "outputs": [],
   "source": [
    "# docstring: short for documentation string is a comment used to describe the purpose, functionality, or usage of a module, class, method, or function. \n",
    "# It's written using triple quotes (\"\"\" or ''') and is placed right after the definition of the object it describes.\n",
    "# Docstrings are useful for improving code readability and are often used to generate documentation automatically."
   ]
  },
  {
   "cell_type": "code",
   "execution_count": 1,
   "id": "baedd3b5-bc1e-4797-ae65-f820d10c541f",
   "metadata": {},
   "outputs": [],
   "source": [
    "def add(a, b):\n",
    "    \"\"\" \n",
    "    This function takes two numbers as input and returns their sum.\n",
    "\n",
    "    Parameters:\n",
    "    a (int or float) : The first number.\n",
    "    b (int or float) : The second number.\n",
    "\n",
    "    Returns:\n",
    "    int or float: The sum of two input numbers.\n",
    "    \"\"\"\n",
    "    return a + b"
   ]
  },
  {
   "cell_type": "code",
   "execution_count": 2,
   "id": "566f78c7-9a52-4d38-98d9-c32847ed7415",
   "metadata": {},
   "outputs": [
    {
     "name": "stdout",
     "output_type": "stream",
     "text": [
      "Help on function add in module __main__:\n",
      "\n",
      "add(a, b)\n",
      "    This function takes two numbers as input and returns their sum.\n",
      "\n",
      "    Parameters:\n",
      "    a (int or float) : The first number.\n",
      "    b (int or float) : The second number.\n",
      "\n",
      "    Returns:\n",
      "    int or float: The sum of two input numbers.\n",
      "\n"
     ]
    }
   ],
   "source": [
    "# help() and __doc__ attribute\n",
    "\n",
    "help(add)"
   ]
  },
  {
   "cell_type": "code",
   "execution_count": 3,
   "id": "22bc7b6f-20c1-47a4-be94-8ee9e66a044e",
   "metadata": {},
   "outputs": [],
   "source": [
    "class Dog:\n",
    "    \"\"\"\n",
    "    A class used to represent a Dog.\n",
    "\n",
    "    Attributes:\n",
    "    name (str): The name of the dog.\n",
    "    age (int) : The age of the dog.\n",
    "\n",
    "    Methods:\n",
    "    bark(): Prints the dog's name and 'is barking'.\n",
    "    \"\"\"\n",
    "    def __init__(self, name, age):\n",
    "        self.name = name\n",
    "        self.age = age\n",
    "    def bark(self):\n",
    "        print(f\"{self.name} is barking\")"
   ]
  },
  {
   "cell_type": "code",
   "execution_count": null,
   "id": "c885bb71-058c-4a9e-a10e-51599b8703bc",
   "metadata": {},
   "outputs": [],
   "source": [
    "# f-strings: It is formatted string literals provide a concise and readable way to embed expressions inside string literals, using curly braces {}. \n",
    "# f-strings are prefixed with an f or F. \n",
    "# It allow you to directly include variables, expressions, or even function calls inside a string, making string formatting more intuitive."
   ]
  },
  {
   "cell_type": "code",
   "execution_count": 6,
   "id": "2e7490e9-3c51-4a4b-ab7b-b95cd4111d92",
   "metadata": {},
   "outputs": [
    {
     "name": "stdout",
     "output_type": "stream",
     "text": [
      "My name is Alice and I am 30 years old \n"
     ]
    }
   ],
   "source": [
    "name = \"Alice\"\n",
    "age = 30\n",
    "\n",
    "print(f\"My name is {name} and I am {age} years old \")"
   ]
  },
  {
   "cell_type": "code",
   "execution_count": 9,
   "id": "b88075a1-8951-44c7-9872-92fefbdfe210",
   "metadata": {},
   "outputs": [
    {
     "name": "stdout",
     "output_type": "stream",
     "text": [
      "The area of the reactangle is 50 square units.\n"
     ]
    }
   ],
   "source": [
    "width = 5\n",
    "height = 10\n",
    "\n",
    "area = f\"The area of the reactangle is {width * height} square units.\"\n",
    "print(area)"
   ]
  },
  {
   "cell_type": "code",
   "execution_count": 12,
   "id": "90469d41-e0fc-47d5-b509-ecc8aba98b2a",
   "metadata": {},
   "outputs": [
    {
     "name": "stdout",
     "output_type": "stream",
     "text": [
      " Pi to 2 decimal places : 3.1415\n"
     ]
    }
   ],
   "source": [
    "pi = 3.1414925\n",
    "\n",
    "formatted_pi = f\" Pi to 2 decimal places : {pi:.4f}\"\n",
    "print(formatted_pi)\n"
   ]
  },
  {
   "cell_type": "code",
   "execution_count": 13,
   "id": "8f26ee77-48ed-4688-b0f6-4a1518143ff3",
   "metadata": {},
   "outputs": [
    {
     "name": "stdout",
     "output_type": "stream",
     "text": [
      "Hello, BOBBY\n"
     ]
    }
   ],
   "source": [
    "def to_uppercase(text):\n",
    "    return text.upper()\n",
    "\n",
    "name = \"bobby\"\n",
    "print(f\"Hello, {to_uppercase(name)}\")\n"
   ]
  },
  {
   "cell_type": "code",
   "execution_count": null,
   "id": "32654e8f-689b-4acf-9525-6a005ac1b255",
   "metadata": {},
   "outputs": [],
   "source": [
    "# Assertions in Python are a debugging tool used to test whether a certain condition is true during the execution of a program. \n",
    "# The assert statement checks if a condition is met, and if it is not, it raises an AssertionError with an optional message.\n",
    "\n",
    "# syntax: assert condition, optional_message"
   ]
  },
  {
   "cell_type": "code",
   "execution_count": 17,
   "id": "731257a8-c5b2-4c1b-b43b-88d9243e9b5e",
   "metadata": {},
   "outputs": [
    {
     "ename": "AssertionError",
     "evalue": "y should not be zero for division",
     "output_type": "error",
     "traceback": [
      "\u001b[1;31m---------------------------------------------------------------------------\u001b[0m",
      "\u001b[1;31mAssertionError\u001b[0m                            Traceback (most recent call last)",
      "Cell \u001b[1;32mIn[17], line 4\u001b[0m\n\u001b[0;32m      1\u001b[0m x \u001b[38;5;241m=\u001b[39m \u001b[38;5;241m10\u001b[39m\n\u001b[0;32m      2\u001b[0m y \u001b[38;5;241m=\u001b[39m \u001b[38;5;241m0\u001b[39m\n\u001b[1;32m----> 4\u001b[0m \u001b[38;5;28;01massert\u001b[39;00m y \u001b[38;5;241m!=\u001b[39m \u001b[38;5;241m0\u001b[39m, \u001b[38;5;124m\"\u001b[39m\u001b[38;5;124my should not be zero for division\u001b[39m\u001b[38;5;124m\"\u001b[39m\n\u001b[0;32m      5\u001b[0m result \u001b[38;5;241m=\u001b[39m x\u001b[38;5;241m/\u001b[39my\n\u001b[0;32m      7\u001b[0m \u001b[38;5;28mprint\u001b[39m(result)\n",
      "\u001b[1;31mAssertionError\u001b[0m: y should not be zero for division"
     ]
    }
   ],
   "source": [
    "x = 10\n",
    "y = 0\n",
    "\n",
    "assert y != 0, \"y should not be zero for division\"\n",
    "result = x/y\n",
    "\n",
    "print(result)"
   ]
  },
  {
   "cell_type": "code",
   "execution_count": null,
   "id": "923b4013-cf82-497b-87e2-21606c8c13b0",
   "metadata": {},
   "outputs": [],
   "source": [
    "# Unpacking : It is a process where elements from a collection (list, tuple, or dictionary) are assigned to variables in a single operation. \n",
    "# It allows you to extract values from a collection and assign them to individual variables easily.\n"
   ]
  },
  {
   "cell_type": "code",
   "execution_count": 19,
   "id": "605d9c8d-be81-45b8-89fe-4b85b842bb70",
   "metadata": {},
   "outputs": [
    {
     "name": "stdout",
     "output_type": "stream",
     "text": [
      "10\n",
      "20\n",
      "30\n"
     ]
    }
   ],
   "source": [
    "coordintates = (10, 20, 30)\n",
    "\n",
    "x, y, z = coordintates\n",
    "\n",
    "print(x)\n",
    "print(y)\n",
    "print(z)\n",
    "# print(x, y, z)"
   ]
  },
  {
   "cell_type": "code",
   "execution_count": 20,
   "id": "bfb285b0-9e79-4d4b-8379-c7d21bc44c24",
   "metadata": {},
   "outputs": [
    {
     "name": "stdout",
     "output_type": "stream",
     "text": [
      "1\n",
      "2\n",
      "3\n"
     ]
    }
   ],
   "source": [
    "numbers = [1, 2, 3]\n",
    "\n",
    "a, b, c = numbers\n",
    "print(a)\n",
    "print(b)\n",
    "print(c)"
   ]
  },
  {
   "cell_type": "code",
   "execution_count": 21,
   "id": "0c33be73-f00a-411e-9120-e94c21475361",
   "metadata": {},
   "outputs": [
    {
     "name": "stdout",
     "output_type": "stream",
     "text": [
      "1\n",
      "2\n",
      "[3, 4, 5, 6, 7]\n"
     ]
    }
   ],
   "source": [
    "# * \n",
    "\n",
    "sequence = [1, 2, 3, 4, 5, 6, 7]\n",
    "\n",
    "a, b, *c = sequence\n",
    "\n",
    "print(a)\n",
    "print(b)\n",
    "print(c)\n"
   ]
  },
  {
   "cell_type": "code",
   "execution_count": 22,
   "id": "429227c6-2081-4f89-86fd-5fe9a33b4ff4",
   "metadata": {},
   "outputs": [
    {
     "name": "stdout",
     "output_type": "stream",
     "text": [
      "1\n",
      "[2, 3, 4, 5, 6]\n",
      "7\n"
     ]
    }
   ],
   "source": [
    "first, *middle, last = sequence\n",
    "\n",
    "print(first)\n",
    "print(middle)\n",
    "print(last)"
   ]
  },
  {
   "cell_type": "code",
   "execution_count": 23,
   "id": "3e7f95e6-6633-40fa-957d-fbc4c5646a04",
   "metadata": {},
   "outputs": [
    {
     "name": "stdout",
     "output_type": "stream",
     "text": [
      "dict_items([('name', 'James'), ('age', 25), ('grade', 'A')])\n"
     ]
    }
   ],
   "source": [
    "# items(), keys(),values()\n",
    "\n",
    "student = {'name': \"James\", \"age\": 25, 'grade': \"A\"}\n",
    "\n",
    "print(student.items())"
   ]
  },
  {
   "cell_type": "code",
   "execution_count": 24,
   "id": "ce13b5b0-ce1a-4800-baa9-46d386ea3a52",
   "metadata": {
    "scrolled": true
   },
   "outputs": [
    {
     "name": "stdout",
     "output_type": "stream",
     "text": [
      "name James\n",
      "age 25\n",
      "grade A\n"
     ]
    }
   ],
   "source": [
    "for key, value in student.items():\n",
    "    print(key, value)"
   ]
  },
  {
   "cell_type": "code",
   "execution_count": 25,
   "id": "57fecdc2-1f24-4429-a7d1-b96f3a692fc4",
   "metadata": {},
   "outputs": [
    {
     "name": "stdout",
     "output_type": "stream",
     "text": [
      "James\n",
      "25\n",
      "A\n"
     ]
    }
   ],
   "source": [
    "name, age, grade = student.values()\n",
    "print(name)\n",
    "print(age)\n",
    "print(grade)"
   ]
  },
  {
   "cell_type": "code",
   "execution_count": 26,
   "id": "9300a77a-8c3b-4a60-9d27-c35064e08e8d",
   "metadata": {},
   "outputs": [
    {
     "name": "stdout",
     "output_type": "stream",
     "text": [
      "John\n",
      "28\n"
     ]
    }
   ],
   "source": [
    "person = (\"John\", (28, \"Engineer\"))\n",
    "\n",
    "name,(age, profession) = person\n",
    "print(name)\n",
    "print(age)"
   ]
  },
  {
   "cell_type": "code",
   "execution_count": 28,
   "id": "1eb6cce4-4ef4-4eea-bfbe-0a76393bbadb",
   "metadata": {},
   "outputs": [
    {
     "name": "stdout",
     "output_type": "stream",
     "text": [
      "Engineer\n"
     ]
    }
   ],
   "source": [
    "print(profession)"
   ]
  },
  {
   "cell_type": "code",
   "execution_count": 30,
   "id": "7f1218ba-bbc7-4b56-92d3-da3b1ae2337a",
   "metadata": {},
   "outputs": [],
   "source": [
    "# logical operator : and, or, not, in, is"
   ]
  },
  {
   "cell_type": "code",
   "execution_count": 34,
   "id": "7aca890e-f513-461b-a421-d8b8ca1711aa",
   "metadata": {},
   "outputs": [
    {
     "name": "stdout",
     "output_type": "stream",
     "text": [
      "Both conditions are not True\n"
     ]
    }
   ],
   "source": [
    "# and : \n",
    "\n",
    "x = 5\n",
    "y = 10\n",
    "z = 20\n",
    "\n",
    "if x > 0 and y > 5 and z < 5:\n",
    "    print(\"Both conditions are True\")\n",
    "else:\n",
    "    print(\"Both conditions are not True\")"
   ]
  },
  {
   "cell_type": "code",
   "execution_count": 36,
   "id": "d83ce87f-867e-4694-a05b-b5fe90aef9db",
   "metadata": {},
   "outputs": [
    {
     "name": "stdout",
     "output_type": "stream",
     "text": [
      "x is not greater than zero\n"
     ]
    }
   ],
   "source": [
    "# or \n",
    "\n",
    "if x < 0 or x < 0:\n",
    "    print(\"x is greater than zero\")\n",
    "else:\n",
    "    print(\"x is not greater than zero\")"
   ]
  },
  {
   "cell_type": "code",
   "execution_count": 40,
   "id": "3b8c8264-54aa-4f77-ace9-e6ffebfd5f3e",
   "metadata": {},
   "outputs": [
    {
     "name": "stdout",
     "output_type": "stream",
     "text": [
      "True\n"
     ]
    }
   ],
   "source": [
    "# not : negation operator \n",
    "\n",
    "boolean_data = not x < 0\n",
    "print(boolean_data)"
   ]
  },
  {
   "cell_type": "code",
   "execution_count": 41,
   "id": "5f68f0b6-ea1d-4642-818e-a15ba6379fdc",
   "metadata": {},
   "outputs": [
    {
     "name": "stdout",
     "output_type": "stream",
     "text": [
      "Banana exist\n"
     ]
    }
   ],
   "source": [
    "# in \n",
    "\n",
    "fruits = ['apple', 'banana', 'cherry']\n",
    "\n",
    "if 'banana' in fruits:\n",
    "    print('Banana exist')"
   ]
  },
  {
   "cell_type": "code",
   "execution_count": 43,
   "id": "3c4f4d63-dd56-4b0e-80a2-3c5594848866",
   "metadata": {},
   "outputs": [
    {
     "name": "stdout",
     "output_type": "stream",
     "text": [
      "Grape doesn't exist\n"
     ]
    }
   ],
   "source": [
    "if 'grape' not in fruits:\n",
    "    print('Grape doesn\\'t exist')"
   ]
  },
  {
   "cell_type": "code",
   "execution_count": 48,
   "id": "e063a51f-24c4-41f3-9821-ea172e1d21ee",
   "metadata": {},
   "outputs": [
    {
     "name": "stdout",
     "output_type": "stream",
     "text": [
      "variable values are same\n"
     ]
    }
   ],
   "source": [
    "# is\n",
    "\n",
    "x = 20\n",
    "y = 20\n",
    "\n",
    "if x == y:\n",
    "    print(\"variable values are same\")\n",
    "else:\n",
    "    print(\"Variable values are not same\")"
   ]
  },
  {
   "cell_type": "code",
   "execution_count": 46,
   "id": "49b95ee3-41fe-4d4b-81bb-5e9123f6b65d",
   "metadata": {},
   "outputs": [
    {
     "name": "stdout",
     "output_type": "stream",
     "text": [
      "a and b refer to different objects\n"
     ]
    }
   ],
   "source": [
    "a = [1, 2, 3]\n",
    "b = [1, 2, 3]\n",
    "\n",
    "if a is b:\n",
    "    print(\"a and b refer to the same object\")\n",
    "else:\n",
    "    print(\"a and b refer to different objects\")"
   ]
  },
  {
   "cell_type": "code",
   "execution_count": 49,
   "id": "baadae9a-d016-4e7d-8d99-8203ded670fd",
   "metadata": {},
   "outputs": [
    {
     "name": "stdout",
     "output_type": "stream",
     "text": [
      "2362777901952\n"
     ]
    }
   ],
   "source": [
    "print(id(a))"
   ]
  },
  {
   "cell_type": "code",
   "execution_count": 50,
   "id": "78df8640-9415-43f2-a5e7-b4f5d526f08e",
   "metadata": {},
   "outputs": [
    {
     "name": "stdout",
     "output_type": "stream",
     "text": [
      "2362777455232\n"
     ]
    }
   ],
   "source": [
    "print(id(b))"
   ]
  },
  {
   "cell_type": "markdown",
   "id": "beae3df4-8b6e-42a4-ab21-71cd9268ab2e",
   "metadata": {},
   "source": [
    "# Python file handling"
   ]
  },
  {
   "cell_type": "code",
   "execution_count": null,
   "id": "d6e548a0-d77b-4c91-b129-4b3e21da3b63",
   "metadata": {},
   "outputs": [],
   "source": [
    "# handling files involves reading from and writing to files, which allows you to work with data that persists outside of your program's runtime. \n",
    "# Files can be text files (like .txt, .csv) or binary files (like images or audio files).\n",
    "\n",
    "# first open the file beofore reading and writing : file = open('filename.txt', 'mode')\n",
    "# mode: 'r', 'w', 'a', 'b', 'x'"
   ]
  },
  {
   "cell_type": "code",
   "execution_count": 76,
   "id": "c64e95f0-a78c-4793-972e-7befcc984d60",
   "metadata": {},
   "outputs": [],
   "source": [
    "file = open('data.txt', 'x')"
   ]
  },
  {
   "cell_type": "code",
   "execution_count": 77,
   "id": "0e73dd22-9ae2-4af5-afdf-8b3fa07dfef9",
   "metadata": {},
   "outputs": [],
   "source": [
    "file.close()"
   ]
  },
  {
   "cell_type": "code",
   "execution_count": 78,
   "id": "023540a2-bb43-4670-983a-765415eed0d5",
   "metadata": {},
   "outputs": [],
   "source": [
    "file2 = open('data.txt', 'w')"
   ]
  },
  {
   "cell_type": "code",
   "execution_count": 79,
   "id": "4798b576-0c81-4a41-bd3f-8cbf5decf540",
   "metadata": {},
   "outputs": [
    {
     "data": {
      "text/plain": [
       "20"
      ]
     },
     "execution_count": 79,
     "metadata": {},
     "output_type": "execute_result"
    }
   ],
   "source": [
    "# write()\n",
    "# writelines()\n",
    "\n",
    "file2.write(\"I am learning Python\")"
   ]
  },
  {
   "cell_type": "code",
   "execution_count": 80,
   "id": "09fffdbe-f8b7-4b4e-a1f8-067366517855",
   "metadata": {},
   "outputs": [],
   "source": [
    "file2.close()"
   ]
  },
  {
   "cell_type": "code",
   "execution_count": 82,
   "id": "858f93eb-fb19-4d9a-b80d-57c2a4e934e1",
   "metadata": {},
   "outputs": [],
   "source": [
    "file2 = open('data.txt', 'r')"
   ]
  },
  {
   "cell_type": "code",
   "execution_count": 83,
   "id": "54f15860-0c29-4294-bf94-5b1ddc937696",
   "metadata": {},
   "outputs": [
    {
     "data": {
      "text/plain": [
       "'I am learning Python'"
      ]
     },
     "execution_count": 83,
     "metadata": {},
     "output_type": "execute_result"
    }
   ],
   "source": [
    "# readline()\n",
    "file2.readline()"
   ]
  },
  {
   "cell_type": "code",
   "execution_count": 84,
   "id": "a384d1f7-5a3f-4e36-96bf-a082af18f489",
   "metadata": {},
   "outputs": [],
   "source": [
    "file2.close()"
   ]
  },
  {
   "cell_type": "code",
   "execution_count": 92,
   "id": "463b580c-70fe-45dc-b79a-c80754ff86fe",
   "metadata": {},
   "outputs": [],
   "source": [
    "file2 = open('data.txt', 'w')"
   ]
  },
  {
   "cell_type": "code",
   "execution_count": 93,
   "id": "43d63b17-6aa9-403d-a82d-1cf0da00734c",
   "metadata": {},
   "outputs": [],
   "source": [
    "file2.writelines([\"James\", \"Rock\", \"Bob \\n\",\" This is the name of the users\"])"
   ]
  },
  {
   "cell_type": "code",
   "execution_count": 94,
   "id": "ed128faa-4977-400e-b2f8-8083f2e22549",
   "metadata": {},
   "outputs": [],
   "source": [
    "file2.close()"
   ]
  },
  {
   "cell_type": "code",
   "execution_count": 95,
   "id": "b768a293-6240-40cd-9de6-66554ef813ef",
   "metadata": {},
   "outputs": [],
   "source": [
    "file2 = open('data.txt', 'r')"
   ]
  },
  {
   "cell_type": "code",
   "execution_count": 96,
   "id": "c2d8fa5a-6220-428b-990f-9e8d04bb9fc4",
   "metadata": {},
   "outputs": [
    {
     "data": {
      "text/plain": [
       "'JamesRockBob \\n'"
      ]
     },
     "execution_count": 96,
     "metadata": {},
     "output_type": "execute_result"
    }
   ],
   "source": [
    "file2.readline()"
   ]
  },
  {
   "cell_type": "code",
   "execution_count": 97,
   "id": "3ea674d0-1e59-4176-8850-243b15f5da42",
   "metadata": {},
   "outputs": [
    {
     "data": {
      "text/plain": [
       "[' This is the name of the users']"
      ]
     },
     "execution_count": 97,
     "metadata": {},
     "output_type": "execute_result"
    }
   ],
   "source": [
    "file2.readlines()"
   ]
  },
  {
   "cell_type": "code",
   "execution_count": 98,
   "id": "989748c9-6fe7-4207-93f0-cf986c2e4387",
   "metadata": {},
   "outputs": [],
   "source": [
    "file2.close()"
   ]
  },
  {
   "cell_type": "code",
   "execution_count": 99,
   "id": "458c108f-b4bc-4fd5-b6d3-cb335f22d015",
   "metadata": {},
   "outputs": [],
   "source": [
    "# append data to the file\n",
    "file = open('data.txt', 'a')\n",
    "file.write(\"Appending a new line \\n\")\n",
    "file.close()"
   ]
  },
  {
   "cell_type": "code",
   "execution_count": 103,
   "id": "64b2223c-9dfe-4f30-9bf4-360889aadfab",
   "metadata": {},
   "outputs": [
    {
     "data": {
      "text/plain": [
       "['JamesRockBob \\n', ' This is the name of the usersAppending a new line \\n']"
      ]
     },
     "execution_count": 103,
     "metadata": {},
     "output_type": "execute_result"
    }
   ],
   "source": [
    "file2 = open('data.txt', 'r')\n",
    "file2.readlines()\n",
    "\n"
   ]
  },
  {
   "cell_type": "code",
   "execution_count": 104,
   "id": "e118768d-cf89-48eb-a033-ab8c9c602f80",
   "metadata": {},
   "outputs": [],
   "source": [
    "file2.close()"
   ]
  },
  {
   "cell_type": "code",
   "execution_count": 105,
   "id": "0767bd02-a6fb-4c07-80de-e815e6595c03",
   "metadata": {},
   "outputs": [
    {
     "name": "stdout",
     "output_type": "stream",
     "text": [
      "JamesRockBob \n",
      " This is the name of the usersAppending a new line \n",
      "\n"
     ]
    }
   ],
   "source": [
    "with open('data.txt', 'r') as file:\n",
    "    content = file.read()\n",
    "    print(content)"
   ]
  },
  {
   "cell_type": "code",
   "execution_count": 111,
   "id": "72a83d59-d406-4ced-b02d-26dab4e61215",
   "metadata": {},
   "outputs": [
    {
     "name": "stdout",
     "output_type": "stream",
     "text": [
      "File doesn't exist\n"
     ]
    }
   ],
   "source": [
    "# binary mode: image, audio\n",
    "try:\n",
    "    with open('image.jpg', 'rb') as file:\n",
    "        content = file.read()\n",
    "        print(content)\n",
    "\n",
    "except FileNotFoundError:\n",
    "    print(\"File doesn't exist\")"
   ]
  },
  {
   "cell_type": "code",
   "execution_count": null,
   "id": "1287da24-3352-4a29-875a-37c57ff07b58",
   "metadata": {},
   "outputs": [],
   "source": []
  }
 ],
 "metadata": {
  "kernelspec": {
   "display_name": "Python 3 (ipykernel)",
   "language": "python",
   "name": "python3"
  },
  "language_info": {
   "codemirror_mode": {
    "name": "ipython",
    "version": 3
   },
   "file_extension": ".py",
   "mimetype": "text/x-python",
   "name": "python",
   "nbconvert_exporter": "python",
   "pygments_lexer": "ipython3",
   "version": "3.12.6"
  }
 },
 "nbformat": 4,
 "nbformat_minor": 5
}
